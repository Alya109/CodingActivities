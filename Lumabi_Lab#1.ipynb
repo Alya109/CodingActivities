{
  "nbformat": 4,
  "nbformat_minor": 0,
  "metadata": {
    "colab": {
      "provenance": [],
      "authorship_tag": "ABX9TyN5C7tsMXmvXMiCr6QsU7ZQ"
    },
    "kernelspec": {
      "name": "python3",
      "display_name": "Python 3"
    },
    "language_info": {
      "name": "python"
    }
  },
  "cells": [
    {
      "cell_type": "markdown",
      "source": [
        "<b>Write a Python function named print_diamond that takes an odd integer n as an argument and prints a diamond shape with a width of n using the * character."
      ],
      "metadata": {
        "id": "HaqO2j5MGICe"
      }
    },
    {
      "cell_type": "code",
      "source": [
        "def print_diamond(n):\n",
        "  if n % 2 == 0:\n",
        "    print(\"Enter only odd integer\")\n",
        "    return\n",
        "\n",
        "  for i in range(n):"
      ],
      "metadata": {
        "colab": {
          "base_uri": "https://localhost:8080/",
          "height": 106
        },
        "id": "reJPrF7sHu9p",
        "outputId": "28b998bb-a6e1-4cf0-8638-13627891ccc9"
      },
      "execution_count": 4,
      "outputs": [
        {
          "output_type": "error",
          "ename": "SyntaxError",
          "evalue": "incomplete input (<ipython-input-4-5925c8da6d28>, line 6)",
          "traceback": [
            "\u001b[0;36m  File \u001b[0;32m\"<ipython-input-4-5925c8da6d28>\"\u001b[0;36m, line \u001b[0;32m6\u001b[0m\n\u001b[0;31m    for i in range(n):\u001b[0m\n\u001b[0m                      ^\u001b[0m\n\u001b[0;31mSyntaxError\u001b[0m\u001b[0;31m:\u001b[0m incomplete input\n"
          ]
        }
      ]
    },
    {
      "cell_type": "markdown",
      "source": [],
      "metadata": {
        "id": "Gu772RoDIRKd"
      }
    }
  ]
}