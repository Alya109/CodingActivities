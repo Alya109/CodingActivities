{
  "nbformat": 4,
  "nbformat_minor": 0,
  "metadata": {
    "colab": {
      "provenance": [],
      "authorship_tag": "ABX9TyMI4+HsJcMJ8X2EOHf/k9KZ"
    },
    "kernelspec": {
      "name": "python3",
      "display_name": "Python 3"
    },
    "language_info": {
      "name": "python"
    }
  },
  "cells": [
    {
      "cell_type": "markdown",
      "source": [
        "- - - - - - - - - - - - - - - - - -"
      ],
      "metadata": {
        "id": "phyLkZyCMDJ-"
      }
    },
    {
      "cell_type": "markdown",
      "source": [
        "<b>Lumabi, Earl Vanesse T.   \n",
        "\n",
        "BSCPE 1-4\n",
        "\n",
        "Object-Oriented Programming\n",
        "\n",
        "Lab Activity #1</b>"
      ],
      "metadata": {
        "id": "heP568yuLe3k"
      }
    },
    {
      "cell_type": "markdown",
      "source": [
        "- - - - - - - - - - - - - - - - -"
      ],
      "metadata": {
        "id": "vRVvflK8MLcP"
      }
    },
    {
      "cell_type": "markdown",
      "source": [
        "#<b>1. Diamond Shape"
      ],
      "metadata": {
        "id": "I5eAh0MpMfUb"
      }
    },
    {
      "cell_type": "markdown",
      "source": [
        "**Write a Python function named print_diamond that takes an odd integer n as an argument and prints a diamond shape with a width of n using the * character.**"
      ],
      "metadata": {
        "id": "HaqO2j5MGICe"
      }
    },
    {
      "cell_type": "code",
      "source": [
        "# Diamond Shape Code\n",
        "\n",
        "def print_diamond(n):\n",
        "    # Checks if the n is even\n",
        "    if n % 2 == 0:\n",
        "        return \"Please provide an odd integer.\"\n",
        "\n",
        "    # Prints the upper half of the diamond shape\n",
        "    for i in range(1, n + 1, 2):\n",
        "        print(\" \" * ((n - i) // 2) + \"*\" * i)\n",
        "\n",
        "    # Prints the lower half of the diamond shape\n",
        "    for i in range(n - 2, 0, -2):\n",
        "        print(\" \" * ((n - i) // 2) + \"*\" * i)\n",
        "\n",
        "# Example using 5 as odd integer\n",
        "print_diamond(5)"
      ],
      "metadata": {
        "id": "JtR76Xcyppb-",
        "outputId": "91df07ea-fb05-4507-b529-c1adb8c93d3e",
        "colab": {
          "base_uri": "https://localhost:8080/"
        }
      },
      "execution_count": null,
      "outputs": [
        {
          "output_type": "stream",
          "name": "stdout",
          "text": [
            "  *\n",
            " ***\n",
            "*****\n",
            " ***\n",
            "  *\n"
          ]
        }
      ]
    },
    {
      "cell_type": "markdown",
      "source": [
        "*The output when providing odd integer 5*"
      ],
      "metadata": {
        "id": "Gu772RoDIRKd"
      }
    },
    {
      "cell_type": "markdown",
      "source": [
        "- - - - - - - - - - - - - - - - -"
      ],
      "metadata": {
        "id": "iJWkSSJY4X_j"
      }
    },
    {
      "cell_type": "markdown",
      "source": [
        "### Upper-half Diamond Shape For Loop"
      ],
      "metadata": {
        "id": "NDnzTwl_78XL"
      }
    },
    {
      "cell_type": "code",
      "source": [
        "n = 5 # Example n odd integer\n",
        "\n",
        "# Prints the upper half of the diamond shape\n",
        "for i in range(1, n + 1, 2):\n",
        "    print(\" \" * ((n - i) // 2) + \"*\" * i)"
      ],
      "metadata": {
        "colab": {
          "base_uri": "https://localhost:8080/"
        },
        "id": "3QdTEDCQ14D2",
        "outputId": "43c945a2-5fb3-41ca-94b0-b6c6c967f952"
      },
      "execution_count": null,
      "outputs": [
        {
          "output_type": "stream",
          "name": "stdout",
          "text": [
            "  *\n",
            " ***\n",
            "*****\n"
          ]
        }
      ]
    },
    {
      "cell_type": "markdown",
      "source": [
        ">This first for loop is the one responsible for printing the upper half of the diamond shape.<br>\n",
        "<br>\n",
        ">For example 5 as n value, the range(1, n+1, 2) generates numbers 1, 3, 5 for n=5. This makes that each row has an increasing odd number of \"*\".<br>\n",
        "<br>\n",
        ">The (n - i) // 2 centers the \"*\" by adding spaces before it. For example, when i = 1, the number of spaces is (5-1)//2 = 2, so the output is '  *'.<br>"
      ],
      "metadata": {
        "id": "vYA5ZN2B2Exe"
      }
    },
    {
      "cell_type": "markdown",
      "source": [
        "- - - - - - - - - - - - - - - - -"
      ],
      "metadata": {
        "id": "5tpiB3un4i1v"
      }
    },
    {
      "cell_type": "markdown",
      "source": [
        "### Lower-half Diamond Shape For Loop"
      ],
      "metadata": {
        "id": "INqZ9ai68CIX"
      }
    },
    {
      "cell_type": "code",
      "source": [
        "n = 5 # Example n odd integer\n",
        "# Prints the lower half of the diamond shape\n",
        "for i in range(n - 2, 0, -2):\n",
        "    print(\" \" * ((n - i) // 2) + \"*\" * i)"
      ],
      "metadata": {
        "colab": {
          "base_uri": "https://localhost:8080/"
        },
        "id": "_vfawUBj2tbh",
        "outputId": "9ae88437-8da3-4581-b316-176900300881"
      },
      "execution_count": null,
      "outputs": [
        {
          "output_type": "stream",
          "name": "stdout",
          "text": [
            " ***\n",
            "  *\n"
          ]
        }
      ]
    },
    {
      "cell_type": "markdown",
      "source": [
        ">This for loop is responsible for printing the lower half. Since the first for loop already prints the middle of the diamond shape, this for loop will only print the lower half without the middle part of the diamond. <br>\n",
        "<br>\n",
        ">So n will be decrement by 2 so the range is 3 to 1 with the step of -2."
      ],
      "metadata": {
        "id": "6gY3u5R_3EuL"
      }
    },
    {
      "cell_type": "markdown",
      "source": [
        "- - - - - - - - - - - - - - - - -"
      ],
      "metadata": {
        "id": "SWPab1zlhLkC"
      }
    },
    {
      "cell_type": "markdown",
      "source": [
        "#<b>2. Program that will delete duplicated characters"
      ],
      "metadata": {
        "id": "LAaUDipMgHyh"
      }
    },
    {
      "cell_type": "markdown",
      "source": [
        "**Input starts with a number N  and is followed by N strings**"
      ],
      "metadata": {
        "id": "FZP7__ut756t"
      }
    },
    {
      "cell_type": "code",
      "source": [
        "def removeDuplicates(stringList):\n",
        "    for i in stringList:\n",
        "        lowerIndex = i.lower()\n",
        "        uniqueChar = []\n",
        "        for char in i:\n",
        "            if lowerIndex.count(char.lower()) == 1:\n",
        "                uniqueChar.append(char)\n",
        "        print(\"\".join(uniqueChar))\n",
        "\n",
        "\n",
        "stringList = []\n",
        "n = int(input(\"Enter n: \"))\n",
        "for i in range(n):\n",
        "    string = input().strip()\n",
        "    stringList.append(string)\n",
        "\n",
        "removeDuplicates(stringList)"
      ],
      "metadata": {
        "colab": {
          "base_uri": "https://localhost:8080/"
        },
        "id": "H9j5c-xTr5xc",
        "outputId": "84c18d3f-226e-49bd-9eec-d1c2c1cd5b05"
      },
      "execution_count": 44,
      "outputs": [
        {
          "output_type": "stream",
          "name": "stdout",
          "text": [
            "Enter n: 2\n",
            "Harrenhal\n",
            "Thoros of Myr\n",
            "enl\n",
            "ThsfMy\n"
          ]
        }
      ]
    },
    {
      "cell_type": "markdown",
      "source": [
        "*The example output for the code*"
      ],
      "metadata": {
        "id": "Jyn_Qb9x4-oA"
      }
    },
    {
      "cell_type": "markdown",
      "source": [
        "---"
      ],
      "metadata": {
        "id": "HgpKKo165Cyn"
      }
    },
    {
      "cell_type": "markdown",
      "source": [
        "### Input n and strings with iteration n"
      ],
      "metadata": {
        "id": "nvRUleFi7Wzx"
      }
    },
    {
      "cell_type": "markdown",
      "source": [
        "```python\n",
        "stringList = []\n",
        "n = int(input(\"Enter n: \"))\n",
        "for i in range(n):\n",
        "    string = input().strip()\n",
        "    stringList.append(string)\n",
        "```\n",
        "\n",
        ">The program asks the user for n (number of strings) and stores them in stringList."
      ],
      "metadata": {
        "id": "7rsPYlen3pKr"
      }
    },
    {
      "cell_type": "markdown",
      "source": [
        "### Function that removes duplicates of characters in a string"
      ],
      "metadata": {
        "id": "ZXRPiNgM7eAi"
      }
    },
    {
      "cell_type": "markdown",
      "source": [
        "```python\n",
        "def removeDuplicates(stringList):\n",
        "    for i in stringList:\n",
        "        lowerIndex = i.lower()\n",
        "        uniqueChar = []\n",
        "        for char in i:\n",
        "            if lowerIndex.count(char.lower()) == 1:\n",
        "                uniqueChar.append(char)\n",
        "        print(\"\".join(uniqueChar))\n",
        "```\n",
        "\n",
        ">Iterates through each string and converts it to lowercase for case-insensitive comparison.\n",
        "<br><br>\n",
        ">Checks each character and keeps only those that appear exactly once in the string.\n",
        "<br><br>\n",
        ">Prints the filtered characters as a new string."
      ],
      "metadata": {
        "id": "x6RTkKjf5Jg8"
      }
    },
    {
      "cell_type": "markdown",
      "source": [
        "#<b>3. Code Output"
      ],
      "metadata": {
        "id": "XwVa6j5UmSCJ"
      }
    },
    {
      "cell_type": "code",
      "source": [
        "# Code\n",
        "for i in range(2):\n",
        "    for j in range(2):\n",
        "        print(i, j)\n",
        "    else:\n",
        "        print(\"Inner End\")\n",
        "else:\n",
        "    print(\"Outer End\")"
      ],
      "metadata": {
        "colab": {
          "base_uri": "https://localhost:8080/"
        },
        "id": "huHLHVM4mYbp",
        "outputId": "ecb99272-4f9f-4ffc-dcf0-ad11e3241c09"
      },
      "execution_count": 1,
      "outputs": [
        {
          "output_type": "stream",
          "name": "stdout",
          "text": [
            "0 0\n",
            "0 1\n",
            "Inner End\n",
            "1 0\n",
            "1 1\n",
            "Inner End\n",
            "Outer End\n"
          ]
        }
      ]
    },
    {
      "cell_type": "markdown",
      "source": [
        "*The output of the code*"
      ],
      "metadata": {
        "id": "OoRlanPppsPy"
      }
    },
    {
      "cell_type": "markdown",
      "source": [
        "---"
      ],
      "metadata": {
        "id": "2SbaP2HiovvO"
      }
    },
    {
      "cell_type": "markdown",
      "source": [
        "### For Loop Outer-Inner Loop and Outer Else statement"
      ],
      "metadata": {
        "id": "XSkjagtnoy_7"
      }
    },
    {
      "cell_type": "markdown",
      "source": [
        "\n",
        "```python\n",
        "for i in range(2):\n",
        "    for j in range(2):\n",
        "        print(i, j)\n",
        "    else:\n",
        "        print(\"Inner End\")\n",
        "\n",
        "else:\n",
        "    print(\"Outer End\")\n",
        "```\n",
        "\n",
        ">The inner loop prints (i, j), then ends after two iterations.<br><br>\n",
        ">The else attached to the inner loop runs after the inner loop completes.<br><br>\n",
        ">The outer loop iterates again.<br><br>\n",
        ">After the outer loop finishes completely, the outer else executes."
      ],
      "metadata": {
        "id": "EWcABOIqoMmP"
      }
    }
  ]
}