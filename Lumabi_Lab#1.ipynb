{
  "nbformat": 4,
  "nbformat_minor": 0,
  "metadata": {
    "colab": {
      "provenance": [],
      "authorship_tag": "ABX9TyOwIukrO0VZQ9SRr5JZGbe2"
    },
    "kernelspec": {
      "name": "python3",
      "display_name": "Python 3"
    },
    "language_info": {
      "name": "python"
    }
  },
  "cells": [
    {
      "cell_type": "markdown",
      "source": [
        "======================================================"
      ],
      "metadata": {
        "id": "phyLkZyCMDJ-"
      }
    },
    {
      "cell_type": "markdown",
      "source": [
        "<b>Lumabi, Earl Vanesse T.   \n",
        "\n",
        "BSCPE 1-4\n",
        "\n",
        "Object-Oriented Programming\n",
        "\n",
        "Lab Activity #1</b>"
      ],
      "metadata": {
        "id": "heP568yuLe3k"
      }
    },
    {
      "cell_type": "markdown",
      "source": [
        "======================================================"
      ],
      "metadata": {
        "id": "vRVvflK8MLcP"
      }
    },
    {
      "cell_type": "markdown",
      "source": [
        "<b><h1>#1 Diamond Shape</h1>"
      ],
      "metadata": {
        "id": "I5eAh0MpMfUb"
      }
    },
    {
      "cell_type": "markdown",
      "source": [
        "<b><h5>Write a Python function named print_diamond that takes an odd integer n as an argument and prints a diamond shape with a width of n using the * character.</h5>"
      ],
      "metadata": {
        "id": "HaqO2j5MGICe"
      }
    },
    {
      "cell_type": "code",
      "source": [
        "\n",
        "\n",
        "def print_diamond(n):\n",
        "    # Checks if the n is even\n",
        "    if n % 2 == 0:\n",
        "        return \"Please provide an odd integer.\"\n",
        "\n",
        "    # Prints the upper half of the diamond shape\n",
        "    for i in range(1, n + 1, 2):\n",
        "        print(\" \" * ((n - i) // 2) + \"*\" * i)\n",
        "\n",
        "    # Prints the lower half of the diamond shape\n",
        "    for i in range(n - 2, 0, -2):\n",
        "        print(\" \" * ((n - i) // 2) + \"*\" * i)\n",
        "\n",
        "# Example usage\n",
        "print_diamond(5)"
      ],
      "metadata": {
        "id": "JtR76Xcyppb-",
        "outputId": "91df07ea-fb05-4507-b529-c1adb8c93d3e",
        "colab": {
          "base_uri": "https://localhost:8080/"
        }
      },
      "execution_count": 1,
      "outputs": [
        {
          "output_type": "stream",
          "name": "stdout",
          "text": [
            "  *\n",
            " ***\n",
            "*****\n",
            " ***\n",
            "  *\n"
          ]
        }
      ]
    },
    {
      "cell_type": "markdown",
      "source": [
        "<h5>The output when providing odd integer 5</h5>"
      ],
      "metadata": {
        "id": "Gu772RoDIRKd"
      }
    },
    {
      "cell_type": "markdown",
      "source": [
        "====================================================="
      ],
      "metadata": {
        "id": "SWPab1zlhLkC"
      }
    },
    {
      "cell_type": "markdown",
      "source": [
        "<b><h1>#2 Program that will delete duplicated characters</h1>"
      ],
      "metadata": {
        "id": "LAaUDipMgHyh"
      }
    },
    {
      "cell_type": "code",
      "source": [],
      "metadata": {
        "id": "FWMlZzg8hlng"
      },
      "execution_count": null,
      "outputs": []
    }
  ]
}