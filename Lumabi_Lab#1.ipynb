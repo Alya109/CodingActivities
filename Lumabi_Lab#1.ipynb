{
  "nbformat": 4,
  "nbformat_minor": 0,
  "metadata": {
    "colab": {
      "provenance": [],
      "authorship_tag": "ABX9TyMb9EQH1Iu3oIrojMRZCICK"
    },
    "kernelspec": {
      "name": "python3",
      "display_name": "Python 3"
    },
    "language_info": {
      "name": "python"
    }
  },
  "cells": [
    {
      "cell_type": "markdown",
      "source": [
        "======================================================"
      ],
      "metadata": {
        "id": "phyLkZyCMDJ-"
      }
    },
    {
      "cell_type": "markdown",
      "source": [
        "<b>Lumabi, Earl Vanesse T.   \n",
        "\n",
        "BSCPE 1-4\n",
        "\n",
        "Object-Oriented Programming\n",
        "\n",
        "Lab Activity #1</b>"
      ],
      "metadata": {
        "id": "heP568yuLe3k"
      }
    },
    {
      "cell_type": "markdown",
      "source": [
        "======================================================"
      ],
      "metadata": {
        "id": "vRVvflK8MLcP"
      }
    },
    {
      "cell_type": "markdown",
      "source": [
        "<b><h1>#1 Diamond Shape</h1>"
      ],
      "metadata": {
        "id": "I5eAh0MpMfUb"
      }
    },
    {
      "cell_type": "markdown",
      "source": [
        "<b><h5>Write a Python function named print_diamond that takes an odd integer n as an argument and prints a diamond shape with a width of n using the * character.</h5>"
      ],
      "metadata": {
        "id": "HaqO2j5MGICe"
      }
    },
    {
      "cell_type": "code",
      "source": [
        "# Source Code\n",
        "\n",
        "# ----------------------------------\n",
        "\n",
        "def print_diamond(n):\n",
        "  # Checks if the integer is even and returns\n",
        "  # a text that says provide an odd integer\n",
        "  if n % 2 == 0:\n",
        "    print(\"Please provide an odd integer.\")\n",
        "    return\n",
        "\n",
        "  # Prints the upper half shape of the diamond\n",
        "  for i in range(n // 2 + 1):\n",
        "    print(' ' * ((n - (2 * i + 1)) // 2) + '*' * (2 * i + 1))\n",
        "\n",
        "  # Prints the lower half shape of the diamond\n",
        "  for i in range(n // 2 - 1, -1, -1):\n",
        "    print(' ' * ((n - (2 * i + 1)) // 2) + '*' * (2 * i + 1))\n",
        "\n",
        "#\n",
        "print_diamond(5)\n",
        "\n",
        "# -----------------------------------"
      ],
      "metadata": {
        "colab": {
          "base_uri": "https://localhost:8080/"
        },
        "id": "reJPrF7sHu9p",
        "outputId": "c00a45ca-8605-4b4a-9854-6aeb26fa8191"
      },
      "execution_count": 4,
      "outputs": [
        {
          "output_type": "stream",
          "name": "stdout",
          "text": [
            "  *\n",
            " ***\n",
            "*****\n",
            " ***\n",
            "  *\n"
          ]
        }
      ]
    },
    {
      "cell_type": "markdown",
      "source": [
        "<h5>The output when providing odd integer 5</h5>"
      ],
      "metadata": {
        "id": "Gu772RoDIRKd"
      }
    },
    {
      "cell_type": "markdown",
      "source": [
        "====================================================="
      ],
      "metadata": {
        "id": "SWPab1zlhLkC"
      }
    },
    {
      "cell_type": "markdown",
      "source": [
        "<b><h1>#2 Program that will delete duplicated characters</h1>"
      ],
      "metadata": {
        "id": "LAaUDipMgHyh"
      }
    },
    {
      "cell_type": "code",
      "source": [],
      "metadata": {
        "id": "FWMlZzg8hlng"
      },
      "execution_count": null,
      "outputs": []
    }
  ]
}