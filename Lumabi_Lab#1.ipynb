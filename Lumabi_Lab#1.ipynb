{
  "nbformat": 4,
  "nbformat_minor": 0,
  "metadata": {
    "colab": {
      "provenance": [],
      "authorship_tag": "ABX9TyOnBOsJVtWN91t9QcUEEv0h"
    },
    "kernelspec": {
      "name": "python3",
      "display_name": "Python 3"
    },
    "language_info": {
      "name": "python"
    }
  },
  "cells": [
    {
      "cell_type": "markdown",
      "source": [
        "- - - - - - - - - - - - - - - - - -"
      ],
      "metadata": {
        "id": "phyLkZyCMDJ-"
      }
    },
    {
      "cell_type": "markdown",
      "source": [
        "<b>Lumabi, Earl Vanesse T.   \n",
        "\n",
        "BSCPE 1-4\n",
        "\n",
        "Object-Oriented Programming\n",
        "\n",
        "Lab Activity #1</b>"
      ],
      "metadata": {
        "id": "heP568yuLe3k"
      }
    },
    {
      "cell_type": "markdown",
      "source": [
        "- - - - - - - - - - - - - - - - -"
      ],
      "metadata": {
        "id": "vRVvflK8MLcP"
      }
    },
    {
      "cell_type": "markdown",
      "source": [
        "<b><h1>#1 Diamond Shape</h1>"
      ],
      "metadata": {
        "id": "I5eAh0MpMfUb"
      }
    },
    {
      "cell_type": "markdown",
      "source": [
        "<b><h5>Write a Python function named print_diamond that takes an odd integer n as an argument and prints a diamond shape with a width of n using the * character.</h5>"
      ],
      "metadata": {
        "id": "HaqO2j5MGICe"
      }
    },
    {
      "cell_type": "code",
      "source": [
        "# Diamond Shape Code\n",
        "\n",
        "def print_diamond(n):\n",
        "    # Checks if the n is even\n",
        "    if n % 2 == 0:\n",
        "        return \"Please provide an odd integer.\"\n",
        "\n",
        "    # Prints the upper half of the diamond shape\n",
        "    for i in range(1, n + 1, 2):\n",
        "        print(\" \" * ((n - i) // 2) + \"*\" * i)\n",
        "\n",
        "    # Prints the lower half of the diamond shape\n",
        "    for i in range(n - 2, 0, -2):\n",
        "        print(\" \" * ((n - i) // 2) + \"*\" * i)\n",
        "\n",
        "# Example using 5 as odd integer\n",
        "print_diamond(5)"
      ],
      "metadata": {
        "id": "JtR76Xcyppb-",
        "outputId": "91df07ea-fb05-4507-b529-c1adb8c93d3e",
        "colab": {
          "base_uri": "https://localhost:8080/"
        }
      },
      "execution_count": null,
      "outputs": [
        {
          "output_type": "stream",
          "name": "stdout",
          "text": [
            "  *\n",
            " ***\n",
            "*****\n",
            " ***\n",
            "  *\n"
          ]
        }
      ]
    },
    {
      "cell_type": "markdown",
      "source": [
        "<h5>The output when providing odd integer 5</h5>"
      ],
      "metadata": {
        "id": "Gu772RoDIRKd"
      }
    },
    {
      "cell_type": "markdown",
      "source": [
        "- - - - - - - - - - - - - - - - -"
      ],
      "metadata": {
        "id": "iJWkSSJY4X_j"
      }
    },
    {
      "cell_type": "code",
      "source": [
        "n = 5 # Example n odd integer\n",
        "\n",
        "# Prints the upper half of the diamond shape\n",
        "for i in range(1, n + 1, 2):\n",
        "    print(\" \" * ((n - i) // 2) + \"*\" * i)"
      ],
      "metadata": {
        "id": "3QdTEDCQ14D2",
        "outputId": "43c945a2-5fb3-41ca-94b0-b6c6c967f952",
        "colab": {
          "base_uri": "https://localhost:8080/"
        }
      },
      "execution_count": 5,
      "outputs": [
        {
          "output_type": "stream",
          "name": "stdout",
          "text": [
            "  *\n",
            " ***\n",
            "*****\n"
          ]
        }
      ]
    },
    {
      "cell_type": "markdown",
      "source": [
        "This first for loop is the one responsible for printing the upper half of the diamond shape. For example 5 as n value, it uses range of 1 to 5 with the step of 2. It then prints the spaces first before the \"*\"."
      ],
      "metadata": {
        "id": "vYA5ZN2B2Exe"
      }
    },
    {
      "cell_type": "markdown",
      "source": [
        "- - - - - - - - - - - - - - - - -"
      ],
      "metadata": {
        "id": "5tpiB3un4i1v"
      }
    },
    {
      "cell_type": "code",
      "source": [
        "n = 5 # Example n odd integer\n",
        "# Prints the lower half of the diamond shape\n",
        "for i in range(n - 2, 0, -2):\n",
        "    print(\" \" * ((n - i) // 2) + \"*\" * i)"
      ],
      "metadata": {
        "id": "_vfawUBj2tbh",
        "outputId": "9ae88437-8da3-4581-b316-176900300881",
        "colab": {
          "base_uri": "https://localhost:8080/"
        }
      },
      "execution_count": 7,
      "outputs": [
        {
          "output_type": "stream",
          "name": "stdout",
          "text": [
            " ***\n",
            "  *\n"
          ]
        }
      ]
    },
    {
      "cell_type": "markdown",
      "source": [
        "This for loop is responsible for printing the lower half. Since the first for loop already prints the middle of the diamond shape, this for loop will only print the lower half without the middle part of the diamond so n will be decrement by 2 so the range is 3 to 1 with the step of -2."
      ],
      "metadata": {
        "id": "6gY3u5R_3EuL"
      }
    },
    {
      "cell_type": "markdown",
      "source": [
        "- - - - - - - - - - - - - - - - -"
      ],
      "metadata": {
        "id": "SWPab1zlhLkC"
      }
    },
    {
      "cell_type": "markdown",
      "source": [
        "<b><h1>#2 Program that will delete duplicated characters</h1>"
      ],
      "metadata": {
        "id": "LAaUDipMgHyh"
      }
    },
    {
      "cell_type": "code",
      "source": [
        "\n",
        "def remove_duplicates(s):\n",
        "    unique_chars = []\n",
        "\n",
        "    for char in s:\n",
        "        if s.count(char) == 1:  # Check if the character appears only once\n",
        "            unique_chars.append(char)\n",
        "\n",
        "    return \"\".join(unique_chars)  # Convert list back to string\n",
        "\n",
        "# Read input\n",
        "N = int(input().strip())  # Number of strings\n",
        "strings = []\n",
        "\n",
        "for _ in range(N):\n",
        "    s = input().strip()\n",
        "    strings.append(s)\n",
        "\n",
        "# Process and print results\n",
        "for s in strings:\n",
        "    print(remove_duplicates(s))"
      ],
      "metadata": {
        "id": "FWMlZzg8hlng"
      },
      "execution_count": null,
      "outputs": []
    }
  ]
}