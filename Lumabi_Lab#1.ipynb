{
  "nbformat": 4,
  "nbformat_minor": 0,
  "metadata": {
    "colab": {
      "provenance": [],
      "authorship_tag": "ABX9TyPbDmt71ywmE4SkD7gu3dzm"
    },
    "kernelspec": {
      "name": "python3",
      "display_name": "Python 3"
    },
    "language_info": {
      "name": "python"
    }
  },
  "cells": [
    {
      "cell_type": "markdown",
      "source": [
        "======================================================"
      ],
      "metadata": {
        "id": "phyLkZyCMDJ-"
      }
    },
    {
      "cell_type": "markdown",
      "source": [
        "<b>Lumabi, Earl Vanesse T.   \n",
        "\n",
        "BSCPE 1-4\n",
        "\n",
        "Object-Oriented Programming\n",
        "\n",
        "Lab Activity #1"
      ],
      "metadata": {
        "id": "heP568yuLe3k"
      }
    },
    {
      "cell_type": "markdown",
      "source": [
        "======================================================"
      ],
      "metadata": {
        "id": "vRVvflK8MLcP"
      }
    },
    {
      "cell_type": "markdown",
      "source": [
        "<b><h1>#1 Diamond Shape</h1>"
      ],
      "metadata": {
        "id": "I5eAh0MpMfUb"
      }
    },
    {
      "cell_type": "markdown",
      "source": [
        "<b>Write a Python function named print_diamond that takes an odd integer n as an argument and prints a diamond shape with a width of n using the * character."
      ],
      "metadata": {
        "id": "HaqO2j5MGICe"
      }
    },
    {
      "cell_type": "code",
      "source": [
        "\n",
        "# Source Code\n",
        "\n",
        "def print_diamond(n):\n",
        "  if n % 2 == 0:\n",
        "    print(\"Enter only odd integer\")\n",
        "    return\n",
        "\n",
        "  for i in range(n // 2 + 1):\n",
        "    print(' ' * ((n - (2 * i + 1)) // 2) + '*' * (2 * i + 1))\n",
        "\n",
        "  for i in range(n // 2 - 1, -1, -1):\n",
        "    print(' ' * ((n - (2 * i + 1)) // 2) + '*' * (2 * i + 1))\n",
        "\n",
        "print_diamond(5)"
      ],
      "metadata": {
        "colab": {
          "base_uri": "https://localhost:8080/"
        },
        "id": "reJPrF7sHu9p",
        "outputId": "0835be61-0f88-4d76-8807-88da13f7603a"
      },
      "execution_count": 6,
      "outputs": [
        {
          "output_type": "stream",
          "name": "stdout",
          "text": [
            "  *\n",
            " ***\n",
            "*****\n",
            " ***\n",
            "  *\n"
          ]
        }
      ]
    },
    {
      "cell_type": "markdown",
      "source": [],
      "metadata": {
        "id": "Gu772RoDIRKd"
      }
    }
  ]
}