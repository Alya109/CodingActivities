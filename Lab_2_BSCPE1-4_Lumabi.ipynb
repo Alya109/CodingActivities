{
  "nbformat": 4,
  "nbformat_minor": 0,
  "metadata": {
    "colab": {
      "provenance": [],
      "authorship_tag": "ABX9TyOFxX476T8Q7gVCegkMR4++"
    },
    "kernelspec": {
      "name": "python3",
      "display_name": "Python 3"
    },
    "language_info": {
      "name": "python"
    }
  },
  "cells": [
    {
      "cell_type": "markdown",
      "source": [
        "# Solution here for lab 2"
      ],
      "metadata": {
        "id": "OSCV89nxEq0o"
      }
    },
    {
      "cell_type": "code",
      "execution_count": 41,
      "metadata": {
        "id": "q7FWE_46_Ps9"
      },
      "outputs": [],
      "source": [
        "f = open(\"numbers.txt\", \"r\")\n",
        "evennum = []\n",
        "oddnum = []\n",
        "\n",
        "lines = f.readlines()\n",
        "for line in lines:\n",
        "    num = int(line.strip())\n",
        "    if num % 2 == 0:\n",
        "        evennum.append(line)\n",
        "    else:\n",
        "        oddnum.append(line)\n",
        "f.close()\n",
        "\n",
        "even = open(\"even.txt\", \"a\")\n",
        "for num in evennum:\n",
        "    even.write(num)\n",
        "even.close()\n",
        "\n",
        "odd = open(\"odd.txt\", \"a\")\n",
        "for num in oddnum:\n",
        "    odd.write(num)\n",
        "odd.close()"
      ]
    },
    {
      "cell_type": "code",
      "source": [
        "evenfile = open(\"even.txt\", \"r\")\n",
        "print(evenfile.readlines())"
      ],
      "metadata": {
        "id": "BrlR3He4JN45",
        "outputId": "8db6d33d-ed3f-4401-f2c1-93d4db63998f",
        "colab": {
          "base_uri": "https://localhost:8080/"
        }
      },
      "execution_count": 40,
      "outputs": [
        {
          "output_type": "stream",
          "name": "stdout",
          "text": [
            "['2\\n', '4\\n', '6\\n', '8\\n', '10\\n', '12\\n', '14\\n', '16\\n', '18\\n', '20\\n']\n"
          ]
        }
      ]
    },
    {
      "cell_type": "code",
      "source": [
        "oddfile = open(\"odd.txt\", \"r\")\n",
        "print(oddfile.readlines())"
      ],
      "metadata": {
        "id": "W4-MW-2bJZIj",
        "outputId": "c7f6e6ff-b63b-4949-ec68-caa0f5e9a241",
        "colab": {
          "base_uri": "https://localhost:8080/"
        }
      },
      "execution_count": 42,
      "outputs": [
        {
          "output_type": "stream",
          "name": "stdout",
          "text": [
            "['1\\n', '3\\n', '5\\n', '7\\n', '9\\n', '11\\n', '13\\n', '15\\n', '17\\n', '19\\n', '1\\n', '3\\n', '5\\n', '7\\n', '9\\n', '11\\n', '13\\n', '15\\n', '17\\n', '19\\n']\n"
          ]
        }
      ]
    }
  ]
}