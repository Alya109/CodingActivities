{
  "nbformat": 4,
  "nbformat_minor": 0,
  "metadata": {
    "colab": {
      "provenance": [],
      "authorship_tag": "ABX9TyOQ01pHnX2kc8pzjgO8Eoeo"
    },
    "kernelspec": {
      "name": "python3",
      "display_name": "Python 3"
    },
    "language_info": {
      "name": "python"
    }
  },
  "cells": [
    {
      "cell_type": "code",
      "execution_count": 14,
      "metadata": {
        "id": "q7FWE_46_Ps9",
        "outputId": "a59fb68e-8057-4293-87b0-b73af0175436",
        "colab": {
          "base_uri": "https://localhost:8080/"
        }
      },
      "outputs": [
        {
          "output_type": "stream",
          "name": "stdout",
          "text": [
            "No file found\n"
          ]
        }
      ],
      "source": [
        "import os\n",
        "\n",
        "if os.path.exists(\"numbers.txt\"):\n",
        "    file= open(\"numbers.txt\")\n",
        "    print(file.readlines())\n",
        "else:\n",
        "    print(\"No file found\")"
      ]
    }
  ]
}