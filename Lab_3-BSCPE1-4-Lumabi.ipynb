{
  "nbformat": 4,
  "nbformat_minor": 0,
  "metadata": {
    "colab": {
      "provenance": [],
      "authorship_tag": "ABX9TyOMwfvWT+oliMLpKbHbSjxp"
    },
    "kernelspec": {
      "name": "python3",
      "display_name": "Python 3"
    },
    "language_info": {
      "name": "python"
    }
  },
  "cells": [
    {
      "cell_type": "markdown",
      "source": [
        "<h1> Lab Exercise 3"
      ],
      "metadata": {
        "id": "lHlqTOJ3pZAa"
      }
    },
    {
      "cell_type": "markdown",
      "source": [
        "<h3><b> Lumabi, Earl Vanesse T.<br>BSCPE 1-4<br>Object-Oriented Programming"
      ],
      "metadata": {
        "id": "D6Ri2mhFrUad"
      }
    },
    {
      "cell_type": "markdown",
      "source": [
        "---"
      ],
      "metadata": {
        "id": "Kc_lG_4Cq4KG"
      }
    },
    {
      "cell_type": "markdown",
      "source": [
        "### <b>1. Write a method in python to write multiple line of text contents into a text file mylife.txt. (25 points)"
      ],
      "metadata": {
        "id": "sHq0jmnCpnSe"
      }
    },
    {
      "cell_type": "code",
      "source": [
        "with open(\"mylife.txt\", \"a\") as file:\n",
        "    cont = \"y\"\n",
        "    while cont == \"y\":\n",
        "        text = input(\"Enter line: \")\n",
        "        file.write(text + \"\\n\")\n",
        "        cont = input(\"Are there more lines? (y/n) \").lower()\n",
        "        if cont != \"y\":\n",
        "            break"
      ],
      "metadata": {
        "id": "H55fu2vgtKcK",
        "outputId": "83bd8498-588a-4d0e-cb0e-a58e7addcfb9",
        "colab": {
          "base_uri": "https://localhost:8080/"
        }
      },
      "execution_count": null,
      "outputs": [
        {
          "name": "stdout",
          "output_type": "stream",
          "text": [
            "Enter line: The moon is beautiful\n",
            "Are there more lines? (y/n) y\n",
            "Enter line: The sky is clear blue\n",
            "Are there more lines? (y/n) y\n",
            "Enter line: The atmosphere is calming\n",
            "Are there more lines? (y/n) y\n",
            "Enter line: What is the meaning of life\n",
            "Are there more lines? (y/n) y\n",
            "Enter line: Lovely weather\n",
            "Are there more lines? (y/n) n\n"
          ]
        }
      ]
    },
    {
      "cell_type": "markdown",
      "source": [
        "<h4><b>Example Output File Content"
      ],
      "metadata": {
        "id": "HSTqLlLsypko"
      }
    },
    {
      "cell_type": "code",
      "source": [
        "with open(\"mylife.txt\", \"r\") as filetext:\n",
        "    print(filetext.readlines())"
      ],
      "metadata": {
        "id": "SboEUJPAxSHl",
        "outputId": "af5bc683-91a5-4ba0-b6b5-b4768d605591",
        "colab": {
          "base_uri": "https://localhost:8080/"
        }
      },
      "execution_count": null,
      "outputs": [
        {
          "output_type": "stream",
          "name": "stdout",
          "text": [
            "['The moon is beautiful\\n', 'The sky is clear blue\\n', 'The atmosphere is calming\\n', 'What is the meaning of life\\n', 'Lovely weather\\n']\n"
          ]
        }
      ]
    },
    {
      "cell_type": "markdown",
      "source": [
        "---"
      ],
      "metadata": {
        "id": "Zn8kUfjWyJOH"
      }
    },
    {
      "cell_type": "markdown",
      "source": [
        "### <b>2. Write a method in python will create two separate text files after reading the source text file named integers.txt that contains 20 integers. The first output file will be named double.txt containing the square of all even integers found in integers.txt and the second file will be named triple.txt containing the cube of all odd numbers found in the integers.txt. (25 points)"
      ],
      "metadata": {
        "id": "DFidpIOTwGjN"
      }
    },
    {
      "cell_type": "code",
      "source": [
        "\n",
        "# integers.text - 20 integers\n",
        "\n",
        "even = []\n",
        "odd = []\n",
        "\n",
        "with open(\"integers.txt\", \"r\") as integer:\n",
        "    numbers = integer.readlines()\n",
        "    for num in numbers:\n",
        "        num = int(num.strip())\n",
        "        if num % 2 == 0:\n",
        "            even.append(num ** 2)\n",
        "        else:\n",
        "            odd.append(num ** 3)\n",
        "\n",
        "with open(\"double.txt\", \"w\") as double:\n",
        "    for i in even:\n",
        "        double.write(str(i) + \"\\n\")\n",
        "\n",
        "with open(\"triple.txt\", \"w\") as triple:\n",
        "    for i in odd:\n",
        "        triple.write(str(i) + \"\\n\")"
      ],
      "metadata": {
        "id": "1RCM3PgywlbW",
        "outputId": "bb258d31-3870-43da-ce08-1daa1bef1005",
        "colab": {
          "base_uri": "https://localhost:8080/",
          "height": 245
        }
      },
      "execution_count": 8,
      "outputs": [
        {
          "output_type": "error",
          "ename": "TypeError",
          "evalue": "'_io.TextIOWrapper' object is not callable",
          "traceback": [
            "\u001b[0;31m---------------------------------------------------------------------------\u001b[0m",
            "\u001b[0;31mTypeError\u001b[0m                                 Traceback (most recent call last)",
            "\u001b[0;32m<ipython-input-8-797de4152dca>\u001b[0m in \u001b[0;36m<cell line: 0>\u001b[0;34m()\u001b[0m\n\u001b[1;32m      7\u001b[0m     \u001b[0mnumbers\u001b[0m \u001b[0;34m=\u001b[0m \u001b[0minteger\u001b[0m\u001b[0;34m.\u001b[0m\u001b[0mreadlines\u001b[0m\u001b[0;34m(\u001b[0m\u001b[0;34m)\u001b[0m\u001b[0;34m\u001b[0m\u001b[0;34m\u001b[0m\u001b[0m\n\u001b[1;32m      8\u001b[0m     \u001b[0;32mfor\u001b[0m \u001b[0mnum\u001b[0m \u001b[0;32min\u001b[0m \u001b[0mnumbers\u001b[0m\u001b[0;34m:\u001b[0m\u001b[0;34m\u001b[0m\u001b[0;34m\u001b[0m\u001b[0m\n\u001b[0;32m----> 9\u001b[0;31m         \u001b[0mnum\u001b[0m \u001b[0;34m=\u001b[0m \u001b[0mint\u001b[0m\u001b[0;34m(\u001b[0m\u001b[0mnum\u001b[0m\u001b[0;34m.\u001b[0m\u001b[0mstrip\u001b[0m\u001b[0;34m(\u001b[0m\u001b[0;34m)\u001b[0m\u001b[0;34m)\u001b[0m\u001b[0;34m\u001b[0m\u001b[0;34m\u001b[0m\u001b[0m\n\u001b[0m\u001b[1;32m     10\u001b[0m         \u001b[0;32mif\u001b[0m \u001b[0mnum\u001b[0m \u001b[0;34m%\u001b[0m \u001b[0;36m2\u001b[0m \u001b[0;34m==\u001b[0m \u001b[0;36m0\u001b[0m\u001b[0;34m:\u001b[0m\u001b[0;34m\u001b[0m\u001b[0;34m\u001b[0m\u001b[0m\n\u001b[1;32m     11\u001b[0m             \u001b[0meven\u001b[0m\u001b[0;34m.\u001b[0m\u001b[0mappend\u001b[0m\u001b[0;34m(\u001b[0m\u001b[0mnum\u001b[0m \u001b[0;34m**\u001b[0m \u001b[0;36m2\u001b[0m\u001b[0;34m)\u001b[0m\u001b[0;34m\u001b[0m\u001b[0;34m\u001b[0m\u001b[0m\n",
            "\u001b[0;31mTypeError\u001b[0m: '_io.TextIOWrapper' object is not callable"
          ]
        }
      ]
    }
  ]
}