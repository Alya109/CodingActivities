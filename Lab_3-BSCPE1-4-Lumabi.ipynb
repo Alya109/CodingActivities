{
  "nbformat": 4,
  "nbformat_minor": 0,
  "metadata": {
    "colab": {
      "provenance": [],
      "authorship_tag": "ABX9TyMbdiulLPMx6Gw03s3hGqDk"
    },
    "kernelspec": {
      "name": "python3",
      "display_name": "Python 3"
    },
    "language_info": {
      "name": "python"
    }
  },
  "cells": [
    {
      "cell_type": "markdown",
      "source": [
        "<h1> Lab Exercise 3"
      ],
      "metadata": {
        "id": "lHlqTOJ3pZAa"
      }
    },
    {
      "cell_type": "markdown",
      "source": [
        "<h3><b> Lumabi, Earl Vanesse T.<br>BSCPE 1-4<br>Object-Oriented Programming"
      ],
      "metadata": {
        "id": "D6Ri2mhFrUad"
      }
    },
    {
      "cell_type": "markdown",
      "source": [
        "---"
      ],
      "metadata": {
        "id": "Kc_lG_4Cq4KG"
      }
    },
    {
      "cell_type": "markdown",
      "source": [
        "### <b>1. Write a method in python to write multiple line of text contents into a text file mylife.txt. (25 points)"
      ],
      "metadata": {
        "id": "sHq0jmnCpnSe"
      }
    },
    {
      "cell_type": "code",
      "source": [
        "with open(\"mylife.txt\", \"a\") as file:\n",
        "    cont = \"y\"\n",
        "    while cont == \"y\":\n",
        "        text = input(\"Enter line: \")\n",
        "        file.write(text + \"\\n\")\n",
        "        cont = input(\"Are there more lines? (y/n) \").lower()\n",
        "        if cont != \"y\":\n",
        "            break"
      ],
      "metadata": {
        "id": "H55fu2vgtKcK",
        "outputId": "1f8123a1-6be6-4271-afaa-ba21f548abd1",
        "colab": {
          "base_uri": "https://localhost:8080/"
        }
      },
      "execution_count": 9,
      "outputs": [
        {
          "name": "stdout",
          "output_type": "stream",
          "text": [
            "Enter line: Life is beautiful\n",
            "Are there more lines? (y/n) y\n",
            "Enter line: The atmosphere is calming\n",
            "Are there more lines? (y/n) y\n",
            "Enter line: It is a great day today\n",
            "Are there more lines? (y/n) y\n",
            "Enter line: Fancy weather today huh\n",
            "Are there more lines? (y/n) n\n"
          ]
        }
      ]
    },
    {
      "cell_type": "markdown",
      "source": [
        "<h4><b>Example Output File Content"
      ],
      "metadata": {
        "id": "HSTqLlLsypko"
      }
    },
    {
      "cell_type": "code",
      "source": [
        "with open(\"mylife.txt\", \"r\") as filetext:\n",
        "    lines = filetext.readlines()\n",
        "    for line in lines:\n",
        "        print(line)"
      ],
      "metadata": {
        "id": "SboEUJPAxSHl",
        "outputId": "8e5755dd-ac03-4b5c-aed3-61d21cff45d1",
        "colab": {
          "base_uri": "https://localhost:8080/"
        }
      },
      "execution_count": 10,
      "outputs": [
        {
          "output_type": "stream",
          "name": "stdout",
          "text": [
            "Life is beautiful\n",
            "\n",
            "The atmosphere is calming\n",
            "\n",
            "It is a great day today\n",
            "\n",
            "Fancy weather today huh\n",
            "\n"
          ]
        }
      ]
    },
    {
      "cell_type": "markdown",
      "source": [
        "---"
      ],
      "metadata": {
        "id": "Zn8kUfjWyJOH"
      }
    },
    {
      "cell_type": "markdown",
      "source": [
        "### <b>2. Write a method in python will create two separate text files after reading the source text file named integers.txt that contains 20 integers. The first output file will be named double.txt containing the square of all even integers found in integers.txt and the second file will be named triple.txt containing the cube of all odd numbers found in the integers.txt. (25 points)"
      ],
      "metadata": {
        "id": "DFidpIOTwGjN"
      }
    },
    {
      "cell_type": "code",
      "source": [
        "# integers.text - 20 integers\n",
        "\n",
        "even = []\n",
        "odd = []\n",
        "\n",
        "with open(\"integers.txt\", \"r\") as integers:\n",
        "    numbers = integers.readlines()\n",
        "    for num in numbers:\n",
        "        num = int(num.strip())\n",
        "        if num % 2 == 0:\n",
        "            even.append(num ** 2)\n",
        "        else:\n",
        "            odd.append(num ** 3)\n",
        "\n",
        "with open(\"double.txt\", \"w\") as double:\n",
        "    for i in even:\n",
        "        double.write(str(i) + \"\\n\")\n",
        "\n",
        "with open(\"triple.txt\", \"w\") as triple:\n",
        "    for i in odd:\n",
        "        triple.write(str(i) + \"\\n\")"
      ],
      "metadata": {
        "id": "1RCM3PgywlbW"
      },
      "execution_count": 5,
      "outputs": []
    },
    {
      "cell_type": "markdown",
      "source": [
        "<h4><b>Example Output File Content"
      ],
      "metadata": {
        "id": "tfb3Ylbw6_om"
      }
    },
    {
      "cell_type": "code",
      "source": [
        "with open(\"double.txt\", \"r\") as d:\n",
        "    do = d.readlines()\n",
        "    for i in do:\n",
        "        print(i)"
      ],
      "metadata": {
        "colab": {
          "base_uri": "https://localhost:8080/"
        },
        "id": "QTHHXGQk8qEq",
        "outputId": "ffc6f302-fab3-46e0-cd76-a9b88f2e3259"
      },
      "execution_count": 7,
      "outputs": [
        {
          "output_type": "stream",
          "name": "stdout",
          "text": [
            "4\n",
            "\n",
            "16\n",
            "\n",
            "36\n",
            "\n",
            "64\n",
            "\n",
            "100\n",
            "\n",
            "144\n",
            "\n",
            "196\n",
            "\n",
            "256\n",
            "\n",
            "324\n",
            "\n",
            "400\n",
            "\n"
          ]
        }
      ]
    },
    {
      "cell_type": "code",
      "source": [
        "with open(\"triple.txt\", \"r\") as t:\n",
        "    to = t.readlines()\n",
        "    for i in to:\n",
        "        print(i)"
      ],
      "metadata": {
        "colab": {
          "base_uri": "https://localhost:8080/"
        },
        "id": "1Bpf890R9rmC",
        "outputId": "c34fc682-0cb9-4e2d-9184-830c13ea8822"
      },
      "execution_count": 11,
      "outputs": [
        {
          "output_type": "stream",
          "name": "stdout",
          "text": [
            "1\n",
            "\n",
            "27\n",
            "\n",
            "125\n",
            "\n",
            "343\n",
            "\n",
            "729\n",
            "\n",
            "1331\n",
            "\n",
            "2197\n",
            "\n",
            "3375\n",
            "\n",
            "4913\n",
            "\n",
            "6859\n",
            "\n"
          ]
        }
      ]
    },
    {
      "cell_type": "markdown",
      "source": [
        "### <b>3. Write a Python program that read a text file (gwa.txt) containing the name of 20 students together with their General Weighted Average (GWA) separated by comma\",\". The program will output the name of the student who got the highest GWA (including the GWA).  (50 points)"
      ],
      "metadata": {
        "id": "9AH1I5Ci96ch"
      }
    },
    {
      "cell_type": "code",
      "source": [
        "# gwa.txt (name,1.25)\n",
        "\n",
        "with open(\"gwa.txt\", \"r\") as filegwa:\n",
        "    db = filegwa.readlines()\n",
        "    highestgwa = 6.0\n",
        "    topstudent = \"\"\n",
        "\n",
        "    for line in db:\n",
        "        name, gwa = line.strip().split(\",\")\n",
        "        gwa = float(gwa)\n",
        "\n",
        "        if gwa < highestgwa:\n",
        "            highestgwa = gwa\n",
        "            topstudent = name\n",
        "\n",
        "    print(f\"Top Student: {topstudent}\")\n",
        "    print(f\"GWA: {highestgwa:.2f}\")"
      ],
      "metadata": {
        "id": "POxixzWv-ouE"
      },
      "execution_count": null,
      "outputs": []
    }
  ]
}