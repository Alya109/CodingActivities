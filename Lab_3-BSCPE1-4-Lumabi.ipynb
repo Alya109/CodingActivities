{
  "nbformat": 4,
  "nbformat_minor": 0,
  "metadata": {
    "colab": {
      "provenance": [],
      "authorship_tag": "ABX9TyO0RfJvj9a8KXj98esNBPou"
    },
    "kernelspec": {
      "name": "python3",
      "display_name": "Python 3"
    },
    "language_info": {
      "name": "python"
    }
  },
  "cells": [
    {
      "cell_type": "markdown",
      "source": [
        "<h1> Lab Exercise 3"
      ],
      "metadata": {
        "id": "lHlqTOJ3pZAa"
      }
    },
    {
      "cell_type": "markdown",
      "source": [
        "<h3><b> Lumabi, Earl Vanesse T.<br>BSCPE 1-4<br>Object-Oriented Programming"
      ],
      "metadata": {
        "id": "D6Ri2mhFrUad"
      }
    },
    {
      "cell_type": "markdown",
      "source": [
        "---"
      ],
      "metadata": {
        "id": "Kc_lG_4Cq4KG"
      }
    },
    {
      "cell_type": "markdown",
      "source": [
        "### <b>1. Write a method in python to write multiple line of text contents into a text file mylife.txt. (25 points)"
      ],
      "metadata": {
        "id": "sHq0jmnCpnSe"
      }
    },
    {
      "cell_type": "code",
      "source": [
        "with open(\"mylife.txt\", \"a\") as file:\n",
        "    cont = \"y\"\n",
        "    while cont == \"y\":\n",
        "        text = input(\"Enter line: \")\n",
        "        file.write(text + \"\\n\")\n",
        "        cont = input(\"Are there more lines? (y/n) \").lower()\n",
        "        if cont != \"y\":\n",
        "            break"
      ],
      "metadata": {
        "id": "H55fu2vgtKcK",
        "outputId": "83bd8498-588a-4d0e-cb0e-a58e7addcfb9",
        "colab": {
          "base_uri": "https://localhost:8080/"
        }
      },
      "execution_count": 8,
      "outputs": [
        {
          "name": "stdout",
          "output_type": "stream",
          "text": [
            "Enter line: The moon is beautiful\n",
            "Are there more lines? (y/n) y\n",
            "Enter line: The sky is clear blue\n",
            "Are there more lines? (y/n) y\n",
            "Enter line: The atmosphere is calming\n",
            "Are there more lines? (y/n) y\n",
            "Enter line: What is the meaning of life\n",
            "Are there more lines? (y/n) y\n",
            "Enter line: Lovely weather\n",
            "Are there more lines? (y/n) n\n"
          ]
        }
      ]
    },
    {
      "cell_type": "markdown",
      "source": [
        "><h4><b>Example Output"
      ],
      "metadata": {
        "id": "HSTqLlLsypko"
      }
    },
    {
      "cell_type": "code",
      "source": [
        "with open(\"mylife.txt\", \"r\") as filetext:\n",
        "    print(filetext.readlines())"
      ],
      "metadata": {
        "id": "SboEUJPAxSHl",
        "outputId": "af5bc683-91a5-4ba0-b6b5-b4768d605591",
        "colab": {
          "base_uri": "https://localhost:8080/"
        }
      },
      "execution_count": 14,
      "outputs": [
        {
          "output_type": "stream",
          "name": "stdout",
          "text": [
            "['The moon is beautiful\\n', 'The sky is clear blue\\n', 'The atmosphere is calming\\n', 'What is the meaning of life\\n', 'Lovely weather\\n']\n"
          ]
        }
      ]
    },
    {
      "cell_type": "markdown",
      "source": [
        "---"
      ],
      "metadata": {
        "id": "Zn8kUfjWyJOH"
      }
    },
    {
      "cell_type": "markdown",
      "source": [
        "### <b>2. Write a method in python will create two separate text files after reading the source text file named integers.txt that contains 20 integers. The first output file will be named double.txt containing the square of all even integers found in integers.txt and the second file will be named triple.txt containing the cube of all odd numbers found in the integers.txt. (25 points)"
      ],
      "metadata": {
        "id": "DFidpIOTwGjN"
      }
    },
    {
      "cell_type": "code",
      "source": [
        "\n",
        "# integers.text - 20 integers\n",
        "\n",
        "even = []\n",
        "odd = []\n",
        "\n",
        "with open(\"integers.txt\", \"r\") as int:\n",
        "    numbers = int.readlines().strip()\n",
        "    for num in numbers:\n",
        "        if num % 2 == 0:\n",
        "            even.append(num)\n",
        "        else:\n",
        "            odd.append(num)\n",
        "\n",
        "with open(\"double.txt\", \"w\") as double:"
      ],
      "metadata": {
        "id": "1RCM3PgywlbW",
        "outputId": "e763649f-b944-48e2-e5dc-3c90fa506644",
        "colab": {
          "base_uri": "https://localhost:8080/",
          "height": 211
        }
      },
      "execution_count": 15,
      "outputs": [
        {
          "output_type": "error",
          "ename": "FileNotFoundError",
          "evalue": "[Errno 2] No such file or directory: 'integers.txt'",
          "traceback": [
            "\u001b[0;31m---------------------------------------------------------------------------\u001b[0m",
            "\u001b[0;31mFileNotFoundError\u001b[0m                         Traceback (most recent call last)",
            "\u001b[0;32m<ipython-input-15-35e966ded9c4>\u001b[0m in \u001b[0;36m<cell line: 0>\u001b[0;34m()\u001b[0m\n\u001b[0;32m----> 1\u001b[0;31m \u001b[0;32mwith\u001b[0m \u001b[0mopen\u001b[0m\u001b[0;34m(\u001b[0m\u001b[0;34m\"integers.txt\"\u001b[0m\u001b[0;34m,\u001b[0m \u001b[0;34m\"r\"\u001b[0m\u001b[0;34m)\u001b[0m \u001b[0;32mas\u001b[0m \u001b[0mint\u001b[0m\u001b[0;34m:\u001b[0m\u001b[0;34m\u001b[0m\u001b[0;34m\u001b[0m\u001b[0m\n\u001b[0m\u001b[1;32m      2\u001b[0m     \u001b[0mint\u001b[0m\u001b[0;34m.\u001b[0m\u001b[0mreadlines\u001b[0m\u001b[0;34m(\u001b[0m\u001b[0;34m)\u001b[0m\u001b[0;34m\u001b[0m\u001b[0;34m\u001b[0m\u001b[0m\n",
            "\u001b[0;31mFileNotFoundError\u001b[0m: [Errno 2] No such file or directory: 'integers.txt'"
          ]
        }
      ]
    }
  ]
}