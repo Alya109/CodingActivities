{
 "cells": [
  {
   "cell_type": "markdown",
   "id": "68af632a",
   "metadata": {},
   "source": [
    "<h4>Import tkinter<h4/>"
   ]
  },
  {
   "cell_type": "code",
   "execution_count": 2,
   "id": "d8903f02",
   "metadata": {},
   "outputs": [],
   "source": [
    "import tkinter as tk\n",
    "from tkinter import ttk"
   ]
  },
  {
   "cell_type": "markdown",
   "id": "d0e16841",
   "metadata": {},
   "source": [
    "### **Radio Button**\n",
    "\n",
    "This let users select one option from multiple choices."
   ]
  },
  {
   "cell_type": "code",
   "execution_count": 33,
   "id": "33f8f597",
   "metadata": {},
   "outputs": [],
   "source": [
    "# Create the window\n",
    "root = tk.Tk()\n",
    "root.title(\"Radio Button Example\")\n",
    "root.geometry(\"300x200\")\n",
    "\n",
    "selected_option = tk.StringVar() #used to store the selected radio button value\n",
    "\n",
    "# Create radio buttons\n",
    "opt1 = ttk.Radiobutton(root, text=\"Option 1\", value=\"1\", variable=selected_option).pack()\n",
    "opt2 = ttk.Radiobutton(root, text=\"Option 2\", value=\"2\", variable=selected_option).pack()\n",
    "opt3 = ttk.Radiobutton(root, text=\"Option 3\", value=\"3\", variable=selected_option).pack()\n",
    "\n",
    "root.mainloop()"
   ]
  },
  {
   "cell_type": "markdown",
   "id": "94abc421",
   "metadata": {},
   "source": [
    "### Examples of Radio Buttons"
   ]
  },
  {
   "cell_type": "code",
   "execution_count": 32,
   "id": "77c3a640",
   "metadata": {},
   "outputs": [],
   "source": [
    "root = tk.Tk()\n",
    "root.title(\"Radio Button Example\")\n",
    "root.geometry(\"300x300\")\n",
    "\n",
    "\n",
    "tk.Label(root, text=\"Theme Select: \").pack()\n",
    "size = tk.StringVar()\n",
    "theme_select = tk.StringVar()\n",
    "\n",
    "bt1 = ttk.Radiobutton(root, text=\"Light Mode\", value=\"1\", variable=theme_select).pack()\n",
    "bt2 = ttk.Radiobutton(root, text=\"Dark Mode\", value=\"2\", variable=theme_select).pack()\n",
    "bt3 = ttk.Radiobutton(root, text=\"System Default\", value=\"3\", variable=theme_select).pack()\n",
    "\n",
    "\n",
    "tk.Label(root, text=\"Size: \").pack()\n",
    "size = tk.StringVar()\n",
    "\n",
    "btt1 = ttk.Radiobutton(root, text=\"Small\", value=\"1\", variable=size).pack()\n",
    "btt2 = ttk.Radiobutton(root, text=\"Medium\", value=\"2\", variable=size).pack()\n",
    "btt3 = ttk.Radiobutton(root, text=\"Large\", value=\"3\", variable=size).pack()\n",
    "\n",
    "tk.Label(root, text=\"Sort by: \").pack()\n",
    "filter = tk.StringVar()\n",
    "\n",
    "btf1 = ttk.Radiobutton(root, text=\"Price\", value=\"1\", variable=filter).pack()\n",
    "btf2 = ttk.Radiobutton(root, text=\"Rating\", value=\"2\", variable=filter).pack()\n",
    "btf3 = ttk.Radiobutton(root, text=\"Popular\", value=\"3\", variable=filter).pack()\n",
    "\n",
    "root.mainloop()"
   ]
  },
  {
   "cell_type": "markdown",
   "id": "68e0a508",
   "metadata": {},
   "source": [
    "### **Entry**\n",
    "\n",
    "This let users select one option from multiple choices."
   ]
  },
  {
   "cell_type": "code",
   "execution_count": 38,
   "id": "07be04c5",
   "metadata": {},
   "outputs": [],
   "source": [
    "#Entry Widget Example using tkinter\n",
    "\n",
    "# Create the window\n",
    "root2 = tk.Tk()\n",
    "root2.title(\"Entry Widget Example\")\n",
    "root2.geometry(\"300x200\")\n",
    "\n",
    "# Define the variable to store input text\n",
    "username = tk.StringVar()\n",
    "\n",
    "# Create an Entry field\n",
    "entry = ttk.Entry(root2, textvariable=username)\n",
    "entry.pack()\n",
    "\n",
    "# Function to be used to display the entered text\n",
    "def show_text():\n",
    "    print(f\"Entered Text: {username.get()}\")\n",
    "\n",
    "# Button to fetch and display input\n",
    "button = ttk.Button(root2, text=\"Show Input\", command=show_text)\n",
    "button.pack()\n",
    "\n",
    "# Run the application\n",
    "root2.mainloop()\n"
   ]
  },
  {
   "cell_type": "markdown",
   "id": "89e92953",
   "metadata": {},
   "source": [
    "### Examples of Entry"
   ]
  },
  {
   "cell_type": "code",
   "execution_count": 35,
   "id": "c6cd49c0",
   "metadata": {},
   "outputs": [],
   "source": [
    "entry1 = tk.Tk()\n",
    "entry1.title(\"Entry Widget Example\")\n",
    "entry1.geometry(\"300x200\")\n",
    "\n",
    "username = tk.StringVar()\n",
    "text = ttk.Entry(entry1, textvariable=username).pack()\n",
    "\n",
    "tk.Label(entry1, text=\"\").pack()\n",
    "filter = tk.StringVar()\n",
    "\n",
    "password = tk.StringVar()\n",
    "text = ttk.Entry(entry1, textvariable=password, show=\"*\").pack()\n",
    "\n",
    "\n",
    "# Run the application\n",
    "entry1.mainloop()\n"
   ]
  },
  {
   "cell_type": "markdown",
   "id": "8ebdcbe3",
   "metadata": {},
   "source": [
    "### **Combobox**\n",
    "\n",
    "This let users select one option from multiple choices."
   ]
  },
  {
   "cell_type": "code",
   "execution_count": 36,
   "id": "ba6ebc95",
   "metadata": {},
   "outputs": [
    {
     "name": "stdout",
     "output_type": "stream",
     "text": [
      "Selected Value: Option4\n"
     ]
    }
   ],
   "source": [
    "# Create the window\n",
    "root = tk.Tk()\n",
    "root.title(\"ComboBox Example\")\n",
    "root.geometry(\"300x200\")\n",
    "\n",
    "# Define a variable to store the selected value\n",
    "selected_value = tk.StringVar()\n",
    "\n",
    "# Create a ComboBox\n",
    "combo = ttk.Combobox(root, textvariable=selected_value)\n",
    "\n",
    "# Define the list of values\n",
    "combo['values'] = (\"Option1\", \"Option2\", \"Option3\", \"Option4\")\n",
    "\n",
    "# Set the default selection\n",
    "combo.current(0)  # Selects \"Option1\" as default\n",
    "\n",
    "# Pack the ComboBox\n",
    "combo.pack()\n",
    "\n",
    "# Function to display selected value\n",
    "def show_selection():\n",
    "    print(f\"Selected Value: {selected_value.get()}\")\n",
    "\n",
    "# Button to check selected option\n",
    "check_button = ttk.Button(root, text=\"Check Selection\", command=show_selection)\n",
    "check_button.pack()\n",
    "\n",
    "# Run the application\n",
    "root.mainloop()\n"
   ]
  },
  {
   "cell_type": "markdown",
   "id": "c880fe70",
   "metadata": {},
   "source": [
    "### Examples of Combobox"
   ]
  },
  {
   "cell_type": "code",
   "execution_count": 37,
   "id": "58843513",
   "metadata": {},
   "outputs": [],
   "source": [
    "# Create the window\n",
    "combow = tk.Tk()\n",
    "combow.title(\"ComboBox Example\")\n",
    "combow.geometry(\"300x200\")\n",
    "\n",
    "tk.Label(combow, text=\"Choose an Option:\").pack()\n",
    "combo1 = ttk.Combobox(combow, textvariable=selected_option)\n",
    "combo1['values'] = (\"Option1\", \"Option2\", \"Option3\", \"Option4\")\n",
    "combo1.current(0)\n",
    "combo1.pack()\n",
    "\n",
    "tk.Label(combow, text=\"Select a Color:\").pack()\n",
    "selected_color = tk.StringVar()\n",
    "combo2 = ttk.Combobox(combow, textvariable=selected_color)\n",
    "combo2['values'] = (\"Red\", \"Blue\", \"Green\", \"Yellow\")\n",
    "combo2.current(0)\n",
    "combo2.pack()\n",
    "\n",
    "tk.Label(combow, text=\"Select a Country:\").pack()\n",
    "selected_country = tk.StringVar()\n",
    "combo3 = ttk.Combobox(combow, textvariable=selected_country)\n",
    "combo3['values'] = (\"Philippines\", \"Japan\", \"USA\", \"Canada\")\n",
    "combo3.current(0)\n",
    "combo3.pack()\n",
    "\n",
    "combow.mainloop()"
   ]
  }
 ],
 "metadata": {
  "kernelspec": {
   "display_name": "Python 3",
   "language": "python",
   "name": "python3"
  },
  "language_info": {
   "codemirror_mode": {
    "name": "ipython",
    "version": 3
   },
   "file_extension": ".py",
   "mimetype": "text/x-python",
   "name": "python",
   "nbconvert_exporter": "python",
   "pygments_lexer": "ipython3",
   "version": "3.13.2"
  }
 },
 "nbformat": 4,
 "nbformat_minor": 5
}
