{
 "cells": [
  {
   "cell_type": "markdown",
   "metadata": {},
   "source": [
    "# The built in open function : \n",
    "###  is an object-oriented way of interacting with files in Python.\n",
    "### It returns a file object that can be used to read, write, or manipulate the file.\n",
    "#### https://docs.python.org/3/library/functions.html#open"
   ]
  },
  {
   "cell_type": "code",
   "execution_count": null,
   "metadata": {},
   "outputs": [],
   "source": [
    "# Open the file 'test.txt' in read ('r') mode and assign the file object to 'myFile'.\n",
    "myFile = open(\"test.txt\", \"r\")\n",
    "\n",
    "# Loop through each line in the file object 'myFile'.\n",
    "for line in myFile:\n",
    "    # Print the current line to the console, including the newline character at the end of the line.\n",
    "    print(line)\n",
    "\n",
    "# Close the file to ensure resources are freed and the file is properly closed.\n",
    "myFile.close()"
   ]
  },
  {
   "cell_type": "markdown",
   "metadata": {},
   "source": [
    "# The file object read Function\n",
    "\n",
    "### The read function is used to read the contents of a file in Python. It is typically used in conjunction with the open function, which is used to open a file and return a file object.\n"
   ]
  },
  {
   "cell_type": "code",
   "execution_count": null,
   "metadata": {},
   "outputs": [],
   "source": [
    "f = open(\"./test.txt\")\n",
    "print (f.read())    # Reads the entire file\n",
    "f.close()\n"
   ]
  },
  {
   "cell_type": "markdown",
   "metadata": {},
   "source": [
    "# Function readline() and readlines()\n",
    "### readline() : Read and return one line from the file. Reads in at most n bytes if specified.\n",
    "### readlines() : Read and return a list of lines from the file. Reads in at most n  bytes/characters if specified.\n"
   ]
  },
  {
   "cell_type": "code",
   "execution_count": null,
   "metadata": {},
   "outputs": [],
   "source": [
    "f = open(\"test.txt\")\n",
    "print(f.read(5))   # Reads the first 5 characters of the file\n",
    "\n",
    "print(f.readline()) #Reads the first line of the file\n",
    "print(f.readline()) #Reads the next line of the file\n",
    "data=f.readlines() #Reads the rest of the lines of the file returns a list\n",
    "for line in data:\n",
    "       print(line)\n",
    "print(f.readline()) #Reads the next line of the file\n",
    "f.close()"
   ]
  },
  {
   "cell_type": "markdown",
   "metadata": {},
   "source": [
    "# The file object write Function\n",
    "\n",
    "### The write function is used to write data to a file in Python. It is typically used in conjunction with the open function, which is used to open a file and return a file object.\n",
    "\n",
    "### To use the write function, you first need to open a file in write mode by passing the 'w' mode as the second argument to the open function. If there’s an existing file with this name Python will open it, then overwriting all the contents if there's any. \n",
    "\n",
    "### Close the file: After you have finished appending the data, it is important to close the file. Closing the file ensures that any buffers are flushed and the file is properly saved.\n",
    "\n",
    "For example:\n"
   ]
  },
  {
   "cell_type": "code",
   "execution_count": 44,
   "metadata": {},
   "outputs": [],
   "source": [
    "\n",
    "myFile = open(\"test1.txt\", \"w\")\n",
    "\n",
    "myFile.write(\"This is the first line \\n\")  # Write \"Andy\" followed by a new line character\n",
    "\n",
    "myFile.write(\"And another line \\n\")  # Write \"Andy 2\" followed by a new line character\n",
    "\n",
    "myFile.write(\"This is a\\ttab character\\n\")  # Write \"This is a    tab character\" followed by a new line character\n",
    "\n",
    "\n",
    "myFile.close()\n"
   ]
  },
  {
   "cell_type": "markdown",
   "metadata": {},
   "source": [
    "# Appeding data to a file\n",
    "\n",
    "### Open the file in append mode: To append data to a file, you need to open the file in append mode 'a'. This mode ensures that any new data you write will be added to the end of the file, rather than overwriting its contents.\n",
    "\n",
    "### Write the data to the file: Once the file is opened in append mode, you can use the appropriate method or function to write the data to the file. This could be a simple write operation or a more complex operation depending on the programming language and file handling mechanism.\n",
    "\n",
    "### Close the file: After you have finished appending the data, it is important to close the file. Closing the file ensures that any buffers are flushed and the file is properly saved.\n",
    "\n",
    "\n",
    "For example:"
   ]
  },
  {
   "cell_type": "code",
   "execution_count": 45,
   "metadata": {},
   "outputs": [],
   "source": [
    "myFile = open(\"test1.txt\", \"a\")\n",
    "\n",
    "myFile.write(\"I appended this line to the file\\n\")\n",
    "\n",
    "myFile.close()\n"
   ]
  },
  {
   "cell_type": "markdown",
   "metadata": {},
   "source": [
    "# Lab Exercise 3 (Today)\n",
    "#### You can upload your answers using this file format:  Lab_3-[section]-[your_name].py \n",
    "### ( 50 points).\n",
    "### Write a python program that reads a text file named numbers.txt that contains 20 positive integers. The program will create two other text file; the first text file will be named even.txt that will contain all even numbers extracted from the number.txt the second text file will be named odd.txt that will contain all odd numbers extracted from the number.txt.\n",
    "\n",
    "Note: no need to pass your sample input file (numbers.txt).\n",
    "\n",
    "upload your answer here https://docs.google.com/forms/d/e/1FAIpQLSe_kaIQC_l1g1rt9mRkgTMMm25kOw3twNX-q2ENWI7amU45Kw/viewform?usp=pp_url\n"
   ]
  },
  {
   "cell_type": "code",
   "execution_count": null,
   "metadata": {},
   "outputs": [],
   "source": [
    "# solution to  exercise 2"
   ]
  },
  {
   "cell_type": "markdown",
   "metadata": {},
   "source": [
    "# Lab Exercise 3   (Deadline : April 6, 2025)\n",
    "#### You can upload your answers using this file format:  Lab_3-[num]-[section]-[your_name].py  \n",
    "\n",
    "## 1. (25 points). Write a method in python to write multiple line of text contents into a text file mylife.txt. See output:\n",
    "#### Enter line: Beautiful is better than ugly.\n",
    "#### Are there more lines y/n? y\n",
    "#### Enter line: Explicit is better than implicit.\n",
    "#### Are there more lines y/n? y\n",
    "#### Enter line: Simple is better than complex.\n",
    "#### Are there more lines y/n? n \n",
    "\n",
    "\n",
    "## 2. (25 points). Write a method in python will create two separate text files after reading the source text file named integers.txt that contains 20 integers. The first output file will be named double.txt containing the square of all even integers found in integers.txt and the second file will be named triple.txt containing the cube of all odd numbers found in the integers.txt.\n",
    "\n",
    "\n",
    "\n",
    "## 3. (50 points). \n",
    "### Write a Python program that read a text file (gwa.txt) containing the name of 20 students together with their General Weighted Average (GWA) separated by comma\",\". The program will output the name of the student who got the highest GWA (including the GWA).\n",
    "\n",
    "Note: no need to pass your sample input file ( integers.txt,gwa.txt) and your output files(mylife.txt,double.txt and triple.txt).\n",
    "\n",
    "upload your answers here :  https://docs.google.com/forms/d/e/1FAIpQLScs9UfZ9GmWmliTG2NLsHh-liydiKdB6rJdTkMxcAS8Neo7oA/viewform?usp=pp_url\n"
   ]
  }
 ],
 "metadata": {
  "kernelspec": {
   "display_name": "Python 3",
   "language": "python",
   "name": "python3"
  },
  "language_info": {
   "codemirror_mode": {
    "name": "ipython",
    "version": 3
   },
   "file_extension": ".py",
   "mimetype": "text/x-python",
   "name": "python",
   "nbconvert_exporter": "python",
   "pygments_lexer": "ipython3",
   "version": "3.12.2"
  }
 },
 "nbformat": 4,
 "nbformat_minor": 2
}
