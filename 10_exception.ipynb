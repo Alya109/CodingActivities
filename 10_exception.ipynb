{
 "cells": [
  {
   "cell_type": "markdown",
   "metadata": {},
   "source": [
    "# Python Exception Handling\n",
    "\n",
    "## Introduction\n",
    "\n",
    "Exception handling is a crucial aspect of writing robust and reliable Python code. Exceptions are events that occur during program execution that disrupt the normal flow of instructions. When an exception occurs, Python generates an error message that can be caught and handled to prevent the program from crashing.\n",
    "\n",
    "Let's explore:\n",
    "- What exceptions are\n",
    "- How to handle exceptions using try-except blocks\n",
    "- Multiple exception handling\n",
    "- The else and finally clauses\n",
    "- Raising exceptions\n",
    "- Creating custom exceptions\n",
    "- Best practices for exception handling"
   ]
  },
  {
   "cell_type": "markdown",
   "metadata": {},
   "source": [
    "## Common Built-in Exceptions\n",
    "\n",
    "Python has many built-in exceptions that are raised when something goes wrong. Here are some of the most common ones:\n",
    "\n",
    "- `SyntaxError`: Invalid syntax\n",
    "- `TypeError`: Operation or function applied to an object of inappropriate type\n",
    "- `ValueError`: Operation or function receives an argument of the correct type but an inappropriate value\n",
    "- `NameError`: Local or global name is not found\n",
    "- `IndexError`: Index out of range\n",
    "- `KeyError`: Dictionary key not found\n",
    "- `FileNotFoundError`: File or directory not found\n",
    "- `ZeroDivisionError`: Division or modulo by zero\n",
    "- `ImportError`: Import statement fails\n",
    "- `IOError`: Input/output operation fails"
   ]
  },
  {
   "cell_type": "markdown",
   "metadata": {},
   "source": [
    "## Basic Exception Handling: try-except\n",
    "\n",
    "The most fundamental pattern for handling exceptions is the try-except block. Code that might raise an exception is placed in the `try` block, and the code to handle the exception is placed in the `except` block."
   ]
  },
  {
   "cell_type": "code",
   "execution_count": 2,
   "metadata": {},
   "outputs": [
    {
     "name": "stdout",
     "output_type": "stream",
     "text": [
      "You entered: 98\n"
     ]
    }
   ],
   "source": [
    "# Basic try-except\n",
    "try:\n",
    "    # Code that might raise an exception\n",
    "    number = int(input(\"Enter a number: \"))\n",
    "    print(f\"You entered: {number}\")\n",
    "except ValueError:\n",
    "    # Code to handle the exception\n",
    "    print(\"That's not a valid number!\")"
   ]
  },
  {
   "cell_type": "markdown",
   "metadata": {},
   "source": [
    "## Handling Multiple Exceptions\n",
    "\n",
    "You can handle different types of exceptions differently by having multiple `except` blocks."
   ]
  },
  {
   "cell_type": "code",
   "execution_count": 6,
   "metadata": {},
   "outputs": [
    {
     "name": "stdout",
     "output_type": "stream",
     "text": [
      "You cannot divide by zero!\n"
     ]
    }
   ],
   "source": [
    "# Handling multiple exception types\n",
    "try:\n",
    "    number = int(input(\"Enter a number: \"))\n",
    "    result = 100 / number\n",
    "    print(f\"100 divided by {number} is {result}\")\n",
    "except ValueError:\n",
    "    print(\"That's not a valid number!\")\n",
    "except ZeroDivisionError:\n",
    "    print(\"You cannot divide by zero!\")"
   ]
  },
  {
   "cell_type": "markdown",
   "metadata": {},
   "source": [
    "You can also catch multiple exception types with a single except block:"
   ]
  },
  {
   "cell_type": "code",
   "execution_count": 7,
   "metadata": {},
   "outputs": [
    {
     "name": "stdout",
     "output_type": "stream",
     "text": [
      "There was an issue with the file. It might not exist or you don't have permission to access it.\n"
     ]
    }
   ],
   "source": [
    "# Catching multiple exception types in one except block\n",
    "try:\n",
    "    file = open(\"nonexistent_file.txt\", \"r\")\n",
    "    content = file.read()\n",
    "    file.close()\n",
    "except (FileNotFoundError, PermissionError):\n",
    "    print(\"There was an issue with the file. It might not exist or you don't have permission to access it.\")"
   ]
  },
  {
   "cell_type": "markdown",
   "metadata": {},
   "source": [
    "## Catching All Exceptions\n",
    "\n",
    "You can catch all exceptions by using `except` without specifying an exception type, but this is generally not recommended because it can mask errors. A better approach is to catch `Exception`, which is the base class for all built-in exceptions."
   ]
  },
  {
   "cell_type": "code",
   "execution_count": 8,
   "metadata": {},
   "outputs": [
    {
     "name": "stdout",
     "output_type": "stream",
     "text": [
      "An error occurred: division by zero\n",
      "Error type: ZeroDivisionError\n"
     ]
    }
   ],
   "source": [
    "# Catching all exceptions (not recommended for production code)\n",
    "try:\n",
    "    # Some risky code\n",
    "    x = 1 / 0\n",
    "except Exception as e:\n",
    "    print(f\"An error occurred: {e}\")\n",
    "    print(f\"Error type: {type(e).__name__}\")"
   ]
  },
  {
   "cell_type": "markdown",
   "metadata": {},
   "source": [
    "## The else Clause\n",
    "\n",
    "The `else` clause in a try-except statement is executed if no exceptions are raised in the try block."
   ]
  },
  {
   "cell_type": "code",
   "execution_count": 9,
   "metadata": {},
   "outputs": [
    {
     "name": "stdout",
     "output_type": "stream",
     "text": [
      "You successfully entered the number 65\n"
     ]
    }
   ],
   "source": [
    "# Using else with try-except\n",
    "try:\n",
    "    number = int(input(\"Enter a number: \"))\n",
    "except ValueError:\n",
    "    print(\"That's not a valid number!\")\n",
    "else:\n",
    "    # This code runs only if no exceptions were raised\n",
    "    print(f\"You successfully entered the number {number}\")"
   ]
  },
  {
   "cell_type": "markdown",
   "metadata": {},
   "source": [
    "## The finally Clause\n",
    "\n",
    "The `finally` clause in a try-except statement is always executed, whether an exception is raised or not. It's useful for code that must be executed no matter what, like closing files or releasing resources."
   ]
  },
  {
   "cell_type": "code",
   "execution_count": 13,
   "metadata": {},
   "outputs": [],
   "source": [
    "# Using finally with try-except\n",
    "try:\n",
    "    file = open(\"exampleu.txt\", \"w\")\n",
    "    file.write(\"Hello, world!\")\n",
    "except IOError:\n",
    "    print(\"An error occurred while writing to the file\")\n",
    "# finally:\n",
    "    # This code always runs\n",
    "    print(\"Attempting to close the file...\")\n",
    "    try:\n",
    "        file.close()\n",
    "        print(\"File closed successfully\")\n",
    "    except NameError:\n",
    "        print(\"The file was never opened\")"
   ]
  },
  {
   "cell_type": "code",
   "execution_count": 14,
   "metadata": {},
   "outputs": [],
   "source": [
    "file.close()"
   ]
  },
  {
   "cell_type": "markdown",
   "metadata": {},
   "source": [
    "## Getting Information About Exceptions\n",
    "\n",
    "You can get detailed information about the exception using the `as` keyword to capture the exception object."
   ]
  },
  {
   "cell_type": "code",
   "execution_count": 15,
   "metadata": {},
   "outputs": [
    {
     "name": "stdout",
     "output_type": "stream",
     "text": [
      "Error message: list index out of range\n",
      "Error type: IndexError\n"
     ]
    }
   ],
   "source": [
    "# Getting exception details\n",
    "try:\n",
    "    numbers = [1, 2, 3]\n",
    "    print(numbers[5])\n",
    "except IndexError as e:\n",
    "    print(f\"Error message: {str(e)}\")\n",
    "    print(f\"Error type: {type(e).__name__}\")"
   ]
  },
  {
   "cell_type": "markdown",
   "metadata": {},
   "source": [
    "## Raising Exceptions\n",
    "\n",
    "You can raise exceptions explicitly using the `raise` statement. This is useful when you want to indicate that something exceptional has happened in your code."
   ]
  },
  {
   "cell_type": "code",
   "execution_count": 16,
   "metadata": {},
   "outputs": [
    {
     "name": "stdout",
     "output_type": "stream",
     "text": [
      "Error message: You must be at least 18 years old\n"
     ]
    }
   ],
   "source": [
    "# Raising exceptions\n",
    "def check_age(age):\n",
    "    if age < 0:\n",
    "        raise ValueError(\"Age cannot be negative\")\n",
    "    if age < 18:\n",
    "        raise ValueError(\"You must be at least 18 years old\")\n",
    "    return \"Age is valid\"\n",
    "\n",
    "try:\n",
    "    result = check_age(15)\n",
    "    print(result)\n",
    "except ValueError as ey:\n",
    "    print(f\"Error message: {str(ey)}\")\n",
    "    "
   ]
  },
  {
   "cell_type": "markdown",
   "metadata": {},
   "source": [
    "You can also re-raise an exception after handling it partially:"
   ]
  },
  {
   "cell_type": "code",
   "execution_count": 18,
   "metadata": {},
   "outputs": [
    {
     "name": "stdout",
     "output_type": "stream",
     "text": [
      "Caught a division by zero error!\n"
     ]
    }
   ],
   "source": [
    "# Re-raising exceptions\n",
    "try:\n",
    "    try:\n",
    "        x = 1 / 0\n",
    "    except ZeroDivisionError:\n",
    "        print(\"Caught a division by zero error!\")\n",
    "        # raise  # Re-raise the caught exception\n",
    "except:\n",
    "    print(\"Caught the re-raised exception\")"
   ]
  },
  {
   "cell_type": "markdown",
   "metadata": {},
   "source": [
    "## Creating Custom Exceptions\n",
    "\n",
    "You can create your own exception types by subclassing the built-in `Exception` class or one of its subclasses."
   ]
  },
  {
   "cell_type": "code",
   "execution_count": 19,
   "metadata": {},
   "outputs": [
    {
     "name": "stdout",
     "output_type": "stream",
     "text": [
      "Not enough funds: Available $100, Requested $150\n"
     ]
    }
   ],
   "source": [
    "# Creating custom exceptions\n",
    "class InsufficientFundsError1(Exception):\n",
    "    \"\"\"Raised when a withdrawal exceeds the available balance\"\"\"\n",
    "    def __init__(self, available, requested):\n",
    "        self.available = available\n",
    "        self.requested = requested\n",
    "        self.message = f\"Not enough funds: Available ${available}, Requested ${requested}\"\n",
    "        super().__init__(self.message)\n",
    "\n",
    "class BankAccount:\n",
    "    def __init__(self, balance=0):\n",
    "        self.balance = balance\n",
    "        \n",
    "    def withdraw(self, amount):\n",
    "        if amount > self.balance:\n",
    "            raise InsufficientFundsError1(self.balance, amount)\n",
    "        self.balance -= amount\n",
    "        return self.balance\n",
    "\n",
    "# Using the custom exception\n",
    "account = BankAccount(100)\n",
    "try:\n",
    "    account.withdraw(150)\n",
    "except InsufficientFundsError1 as e:\n",
    "    print(e)"
   ]
  },
  {
   "cell_type": "markdown",
   "metadata": {},
   "source": [
    "## Exception Handling Best Practices\n",
    "\n",
    "1. **Be specific with exception types**: Catch specific exceptions rather than using a blanket `except:` clause.\n",
    "\n",
    "2. **Don't suppress exceptions silently**: Always provide meaningful error messages.\n",
    "\n",
    "\n",
    "3. **Keep the try block small**: Only wrap the specific code that might raise the exception.\n",
    "\n",
    "4. **Use finally for cleanup**: Ensure resources are released even if exceptions occur.\n",
    "\n",
    "5. **Document exceptions in docstrings**: Specify which exceptions your functions might raise.\n",
    "\n",
    "6. **Create custom exceptions for domain-specific errors**: This makes error handling more meaningful.\n",
    "\n"
   ]
  },
  {
   "cell_type": "markdown",
   "metadata": {},
   "source": [
    "## Exercise: Exception Handling\n",
    "\n",
    "1. Create a function that takes a list of values and calculates the average. Handle exceptions for empty lists and non-numeric values.\n",
    "\n",
    "2. Implement a simple calculator function that performs basic operations (add, subtract, multiply, divide) and handles various exceptions like division by zero.\n",
    "\n",
    "3. Write a function that reads a CSV file and handles different types of exceptions that might occur (file not found, permission issues, malformed data)."
   ]
  },
  {
   "cell_type": "markdown",
   "metadata": {},
   "source": [
    "## Practical Example: File Processing With Exception Handling"
   ]
  },
  {
   "cell_type": "code",
   "execution_count": null,
   "metadata": {},
   "outputs": [],
   "source": []
  },
  {
   "cell_type": "code",
   "execution_count": null,
   "metadata": {},
   "outputs": [],
   "source": [
    "# A complete file processing example with proper exception handling\n",
    "def process_file(filename):\n",
    "    try:\n",
    "        # Try to open the file\n",
    "        with open(filename, 'r') as file:  # using 'with' automatically handles file closing\n",
    "            try:\n",
    "                # Try to process the file contents\n",
    "                lines = file.readlines()\n",
    "                \n",
    "                # Process each line (convert to int and sum)\n",
    "                total = 0\n",
    "                for i, line in enumerate(lines, 1):\n",
    "                    try:\n",
    "                        num = int(line.strip())\n",
    "                        total += num\n",
    "                    except ValueError:\n",
    "                        print(f\"Warning: Line {i} contains non-integer data: '{line.strip()}'\")\n",
    "                        continue\n",
    "                \n",
    "                return total\n",
    "                \n",
    "            except Exception as e:\n",
    "                print(f\"Error processing file contents: {e}\")\n",
    "                return None\n",
    "    except FileNotFoundError:\n",
    "        print(f\"Error: The file '{filename}' was not found.\")\n",
    "        return None\n",
    "    except PermissionError:\n",
    "        print(f\"Error: No permission to access '{filename}'.\")\n",
    "        return None\n",
    "    except Exception as e:\n",
    "        print(f\"Unexpected error: {e}\")\n",
    "        return None\n",
    "\n",
    "# Test the function\n",
    "# First create a sample file\n",
    "try:\n",
    "    with open(\"numbers.txt\", \"w\") as f:\n",
    "        f.write(\"10\\n20\\nthirty\\n40\\n\")\n",
    "    \n",
    "    # Now process it\n",
    "    result = process_file(\"numbers.txt\")\n",
    "    if result is not None:\n",
    "        print(f\"Sum of all valid numbers: {result}\")\n",
    "        \n",
    "    # Try with a non-existent file\n",
    "    result = process_file(\"nonexistent.txt\")\n",
    "    \n",
    "except Exception as e:\n",
    "    print(f\"An error occurred during the demonstration: {e}\")"
   ]
  }
 ],
 "metadata": {
  "kernelspec": {
   "display_name": "Python 3",
   "language": "python",
   "name": "python3"
  },
  "language_info": {
   "codemirror_mode": {
    "name": "ipython",
    "version": 3
   },
   "file_extension": ".py",
   "mimetype": "text/x-python",
   "name": "python",
   "nbconvert_exporter": "python",
   "pygments_lexer": "ipython3",
   "version": "3.12.2"
  }
 },
 "nbformat": 4,
 "nbformat_minor": 2
}
