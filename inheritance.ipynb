{
 "cells": [
  {
   "cell_type": "markdown",
   "metadata": {},
   "source": [
    "# OOP Inheritance\n",
    "![](./img/inheritance_title.PNG)"
   ]
  },
  {
   "cell_type": "markdown",
   "metadata": {},
   "source": [
    "![](./img/inheritance_intro.PNG)"
   ]
  },
  {
   "cell_type": "markdown",
   "metadata": {},
   "source": [
    "![](./img/inheritance_intro2.PNG)"
   ]
  },
  {
   "cell_type": "markdown",
   "metadata": {},
   "source": [
    "![](./img/inheritance_intro3.PNG)"
   ]
  },
  {
   "cell_type": "markdown",
   "metadata": {},
   "source": [
    "![](./img/inheritance_intro4.PNG)"
   ]
  },
  {
   "cell_type": "markdown",
   "metadata": {},
   "source": [
    "![](./img/inheritance_intro5.PNG)"
   ]
  },
  {
   "cell_type": "markdown",
   "metadata": {},
   "source": [
    "# In Python, inheritance is implemented using the class keyword. When a class is derived from another class, it automatically inherits all the attributes and methods of the parent class. Here is an example of how to implement inheritance in Python:\n"
   ]
  },
  {
   "cell_type": "code",
   "execution_count": null,
   "metadata": {},
   "outputs": [],
   "source": [
    "\n",
    "class Animal:\n",
    "    def __init__(self, name):\n",
    "        self.name = name\n",
    "\n",
    "    def speak(self):\n",
    "        raise NotImplementedError(\"Subclass must implement abstract method\")\n",
    "\n",
    "class Dog(Animal):\n",
    "    def speak(self):\n",
    "        return \"Woof!\"\n",
    "\n",
    "class Cat(Animal):\n",
    "    def speak(self):\n",
    "        return \"Meow!\"\n",
    "\n",
    "d = Dog(\"Rufus\")\n",
    "print(d.name + \": \" + d.speak())\n",
    "\n",
    "c = Cat(\"Fluffy\")\n",
    "print(c.name + \": \" + c.speak())"
   ]
  },
  {
   "cell_type": "code",
   "execution_count": null,
   "metadata": {},
   "outputs": [],
   "source": [
    "#Create a Parent Class\n",
    "\n",
    "class Person:\n",
    "  def __init__(self, fname, lname):\n",
    "    self.firstname = fname\n",
    "    self.lastname = lname\n",
    "\n",
    "  def printname(self):\n",
    "    print(self.firstname, self.lastname)\n",
    "\n",
    "'''Use the Person class to create an object, and then execute the printname method'''\n",
    "\n",
    "x = Person(\"Jose\", \"Rizal\")\n",
    "x.printname()\n"
   ]
  },
  {
   "cell_type": "code",
   "execution_count": null,
   "metadata": {},
   "outputs": [],
   "source": [
    "#Create a Child Class\n",
    "\n",
    "class Student(Person):\n",
    "  pass\n",
    "\n",
    "'''Use the Student class to create an object,\n",
    "and then execute the printname method'''\n",
    "\n",
    "x = Student(\"Melchora\", \"Aquino\")\n",
    "x.printname()\n"
   ]
  },
  {
   "cell_type": "code",
   "execution_count": null,
   "metadata": {},
   "outputs": [],
   "source": [
    "class Parent:\n",
    "    def __init__(self, parent_param):\n",
    "        self.parent_param = parent_param\n",
    "        print(\"Parent's constructor with param:\", self.parent_param)\n",
    "\n",
    "class Child(Parent):\n",
    "    def __init__(self, parent_param, child_param):\n",
    "        super().__init__(parent_param)  # Call parent's constructor\n",
    "        self.child_param = child_param\n",
    "        print(\"Child's constructor with param:\", self.child_param)\n",
    "\n",
    "c = Child(\"parent value\", \"child value\")  \n",
    "# Outputs: Parent's constructor with param: parent value\n",
    "#          Child's constructor with param: child value"
   ]
  },
  {
   "cell_type": "markdown",
   "metadata": {},
   "source": [
    "# Single Inheritance :\n",
    "In single inheritance, a child class inherits from a single-parent class. Here is one child class and one parent class.\n",
    "\n",
    "![alt](./img/single_inheritance.png)"
   ]
  },
  {
   "cell_type": "code",
   "execution_count": null,
   "metadata": {},
   "outputs": [],
   "source": [
    "class Animal:\n",
    "    def __init__(self, name):\n",
    "        self.name = name\n",
    "\n",
    "    def speak(self):\n",
    "        pass  # This will be overridden by subclasses\n",
    "\n",
    "class Dog(Animal):\n",
    "    def __init__(self, name):\n",
    "        super().__init__(name)\n",
    "\n",
    "    def speak(self):\n",
    "        return \"Woof!\"\n",
    "\n",
    "d = Dog(\"Fido\")\n",
    "print(d.name)  # Outputs: Fido\n",
    "print(d.speak())  # Outputs: Woof!"
   ]
  },
  {
   "cell_type": "markdown",
   "metadata": {},
   "source": [
    "# Multiple inheritance \n",
    "In multiple inheritance, one child class can inherit from multiple parent classes. So here is one child class and multiple parent classes.\n",
    "\n",
    "![alt](./img/mul_inheritance.png)"
   ]
  },
  {
   "cell_type": "code",
   "execution_count": null,
   "metadata": {},
   "outputs": [],
   "source": [
    "class Person:\n",
    "    def person_info(self, name, age):\n",
    "        print('Inside Person class')\n",
    "        print('Name:', name, 'Age:', age)\n",
    "\n",
    "class Company:\n",
    "    def company_info(self, company_name, location):\n",
    "        print('Inside Company class')\n",
    "        print('Name:', company_name, 'location:', location)\n",
    "\n",
    "class Employee(Person, Company):\n",
    "    def Employee_info(self, salary, skill):\n",
    "        print('Inside Employee class')\n",
    "        print('Salary:', salary, 'Skill:', skill)\n",
    "    def info(self,salary,skill,company_name,location):\n",
    "        self.Employee_info(salary,skill)\n",
    "        super.company_info(company_name,location)\n",
    "\n",
    "# Create object of Employee\n",
    "emp = Employee()\n",
    "\n",
    "# access data\n",
    "emp.info(\"13000\",\"AI\",\"google\",\"Manila\")\n",
    "# emp.person_info('Jessa', 28)\n",
    "# emp.company_info('Google', 'Atlanta')\n",
    "# emp.Employee_info(12000, 'Machine Learning')\n"
   ]
  },
  {
   "cell_type": "markdown",
   "metadata": {},
   "source": [
    "# Multilevel inheritance :\n",
    "\n",
    "In multilevel inheritance, a class inherits from a child class or derived class. Suppose three classes A, B, C. A is the superclass, B is the child class of A, C is the child class of B. In other words, we can say a chain of classes is called multilevel inheritance.\n",
    "\n",
    "![alt](./img/multi_level_inheritance.png)"
   ]
  },
  {
   "cell_type": "code",
   "execution_count": null,
   "metadata": {},
   "outputs": [],
   "source": [
    "class Vehicle:\n",
    "    def Vehicle_info(self):\n",
    "        print('Inside Vehicle class')\n",
    "\n",
    "class Car(Vehicle):\n",
    "    def car_info(self):\n",
    "        print('Inside Car class')\n",
    "\n",
    "class SportsCar(Car):\n",
    "    def sports_car_info(self):\n",
    "        print('Inside SportsCar class')\n",
    "\n",
    "# Create object of SportsCar\n",
    "s_car = SportsCar()\n",
    "\n",
    "# access Vehicle's and Car info using SportsCar object\n",
    "s_car.Vehicle_info()\n",
    "s_car.car_info()\n",
    "s_car.sports_car_info()\n",
    "\n"
   ]
  },
  {
   "cell_type": "markdown",
   "metadata": {},
   "source": [
    "# Hierarchical Inheritance\n",
    "\n",
    "In Hierarchical inheritance, more than one child class is derived from a single parent class. In other words, we can say one parent class and multiple child classes.\n",
    "\n",
    "![alt](./img/hierar_inheritance.PNG)"
   ]
  },
  {
   "cell_type": "code",
   "execution_count": null,
   "metadata": {},
   "outputs": [],
   "source": [
    "# Hierarchical Inheritance\n",
    "class Vehicle:\n",
    "    def info(self):\n",
    "        print(\"This is Vehicle\")\n",
    "\n",
    "class Car(Vehicle):\n",
    "    def car_info(self, name):\n",
    "        print(\"Car name is:\", name)\n",
    "\n",
    "class Truck(Vehicle):\n",
    "    def truck_info(self, name):\n",
    "        print(\"Truck name is:\", name)\n",
    "\n",
    "obj1 = Car()\n",
    "obj1.info()\n",
    "obj1.car_info('BMW')\n",
    "\n",
    "obj2 = Truck()\n",
    "obj2.info()\n",
    "obj2.truck_info('Ford')\n"
   ]
  },
  {
   "cell_type": "markdown",
   "metadata": {},
   "source": [
    "# Hybrid Inheritance\n",
    "When inheritance is consists of multiple types or a combination of different inheritance is called hybrid inheritance. \n",
    "Hybrid inheritance is a combination of multiple inheritance and multilevel inheritance. That means a class can be derived from two or more classes, just like in multiple inheritance, but those classes can be primary as well as secondary. Here's an example:\n",
    "\n",
    "![alt](./img/hybrid_inheritance.PNG)"
   ]
  },
  {
   "cell_type": "code",
   "execution_count": null,
   "metadata": {},
   "outputs": [],
   "source": [
    "class Grandparent:\n",
    "    pass\n",
    "\n",
    "class Parent1(Grandparent):\n",
    "    pass\n",
    "\n",
    "class Parent2(Grandparent):\n",
    "    pass\n",
    "\n",
    "class Child(Parent1, Parent2):\n",
    "    pass\n",
    "\n",
    "# Child is a child of both Parent1 and Parent2, and both Parent1 and Parent2 are children of Grandparent. This is hybrid inheritance."
   ]
  },
  {
   "cell_type": "code",
   "execution_count": null,
   "metadata": {},
   "outputs": [],
   "source": [
    "# Hybrid Inheritance\n",
    "\n",
    "class Vehicle:\n",
    "    def vehicle_info(self):\n",
    "        print(\"Inside Vehicle class\")\n",
    "\n",
    "class Car(Vehicle):\n",
    "    def car_info(self):\n",
    "        print(\"Inside Car class\")\n",
    "\n",
    "class Truck(Vehicle):\n",
    "    def truck_info(self):\n",
    "        print(\"Inside Truck class\")\n",
    "\n",
    "# Sports Car can inherit properties of Vehicle and Car\n",
    "class SportsCar(Car, Vehicle):\n",
    "    def sports_car_info(self):\n",
    "        print(\"Inside SportsCar class\")\n",
    "\n",
    "# create object\n",
    "s_car = SportsCar()\n",
    "\n",
    "s_car.vehicle_info()\n",
    "s_car.car_info()\n",
    "s_car.sports_car_info()\n"
   ]
  },
  {
   "cell_type": "markdown",
   "metadata": {},
   "source": [
    "# Python super() function\n",
    "\n",
    "### When a class inherits all properties and behavior from the parent class is called inheritance. In such a case, the inherited class is a sub class  and the latter class is the parent class. In child class, we can refer to parent class by using the super()function.\n",
    "\n",
    "## Benefits of using the super()function:\n",
    "### 1. We are not required to remember or specify the parent  class name to access its methods.\n",
    "### 2. We can use the super() function in both single and multiple inheritances.\n",
    "### 3. The super() function support code reusability as there is no need to write the entire function\n"
   ]
  },
  {
   "cell_type": "code",
   "execution_count": null,
   "metadata": {},
   "outputs": [],
   "source": [
    "class Company:\n",
    "    def company_name(self):\n",
    "        return 'Google'\n",
    "\n",
    "class Employee(Company):\n",
    "    def info(self):\n",
    "        # Calling the superclass method using super() function\n",
    "        c_name = super().company_name()\n",
    "        print(\"Jessa works at\", c_name)\n",
    "\n",
    "# Creating object of child class\n",
    "emp = Employee()\n",
    "emp.info()\n",
    "# emp.company_name()\n"
   ]
  },
  {
   "cell_type": "markdown",
   "metadata": {},
   "source": []
  },
  {
   "cell_type": "markdown",
   "metadata": {},
   "source": [
    "![](./img/method_ovverriding.PNG)"
   ]
  },
  {
   "cell_type": "code",
   "execution_count": null,
   "metadata": {},
   "outputs": [],
   "source": [
    "#overriding the implementation of the parent class\n",
    "class Vehicle:\n",
    "    def max_speed(self):\n",
    "        print(\"max speed is 100 Km/Hour\")\n",
    "\n",
    "class Car(Vehicle):\n",
    "    # overridden the implementation of Vehicle class\n",
    "    def max_speed(self):\n",
    "        print(\"max speed is 200 Km/Hour\")\n",
    "\n",
    "class Truck(Vehicle):\n",
    "    # overridden the implementation of Vehicle class\n",
    "    def max_speed(self):\n",
    "        print(\"max speed is 60 Km/Hour\")        \n",
    "\n",
    "# Creating object of Car class\n",
    "car = Car()\n",
    "car.max_speed()\n",
    "\n",
    "# Creating object of Car class\n",
    "mater = Truck()\n",
    "mater.max_speed()\n",
    "\n",
    "# In the above example, we create two classes named Vehicle (Parent Class) and Car (Child Class) The class Car extends from the class Vehicle so,\n",
    "# all properties of the parent class are available in the child class. In addition to that, the child class redefined the method max_speed().\n"
   ]
  },
  {
   "cell_type": "markdown",
   "metadata": {},
   "source": [
    "![](./img/polymorphism.PNG)"
   ]
  },
  {
   "cell_type": "markdown",
   "metadata": {},
   "source": [
    "![image.png](./img/polymorphism2.PNG)"
   ]
  },
  {
   "cell_type": "markdown",
   "metadata": {},
   "source": [
    "![](./img/polymorphism3.PNG)"
   ]
  },
  {
   "cell_type": "markdown",
   "metadata": {},
   "source": [
    "![](./img/polymorphism4.PNG)"
   ]
  },
  {
   "cell_type": "code",
   "execution_count": null,
   "metadata": {},
   "outputs": [],
   "source": [
    "class Vehicle:\n",
    "    def __init__(self, name, color, price):\n",
    "        self.name = name\n",
    "        self.color = color\n",
    "        self.price = price\n",
    "\n",
    "    def show(self):\n",
    "        print('Details:', self.name, self.color, self.price)\n",
    "\n",
    "    def max_speed(self):\n",
    "        print('Vehicle max speed is 150')\n",
    "\n",
    "    def change_gear(self):\n",
    "        print('Vehicle change 6 gear')\n",
    "\n",
    "# Inherit from vehicle class\n",
    "class Car(Vehicle):\n",
    "    def max_speed(self):\n",
    "        print('Car max speed is 240')\n",
    "\n",
    "    def change_gear(self):\n",
    "        print('Car change 7 gear')\n",
    "\n",
    "# Car Object\n",
    "car = Car('Car x1', 'Red', 20000)\n",
    "car.show()\n",
    "car.max_speed()\n",
    "car.change_gear()\n",
    "\n",
    "# Vehicle Object\n",
    "vehicle = Vehicle('Truck x1', 'white', 75000)\n",
    "vehicle.show()\n",
    "vehicle.max_speed()\n",
    "vehicle.change_gear()\n"
   ]
  },
  {
   "cell_type": "markdown",
   "metadata": {},
   "source": [
    "![](./img/method_ovverriding.PNG)"
   ]
  },
  {
   "cell_type": "code",
   "execution_count": null,
   "metadata": {},
   "outputs": [],
   "source": [
    "#overriding the implementation of the parent class\n",
    "class Vehicle:\n",
    "    def max_speed(self):\n",
    "        print(\"max speed is 100 Km/Hour\")\n",
    "\n",
    "class Car(Vehicle):\n",
    "    # overridden the implementation of Vehicle class\n",
    "    def max_speed(self):\n",
    "        print(\"max speed is 200 Km/Hour\")\n",
    "\n",
    "# Creating object of Car class\n",
    "car = Car()\n",
    "car.max_speed()\n",
    "\n",
    "# In the above example, we create two classes named Vehicle (Parent Class) and Car (Child Class) The class Car extends from the class Vehicle so,\n",
    "# all properties of the parent class are available in the child class. In addition to that, the child class redefined the method max_speed().\n"
   ]
  },
  {
   "cell_type": "markdown",
   "metadata": {},
   "source": [
    "# Lab Exercise 5: Zoo Management System\n",
    "Deadline of submission: May 4, 2025\n",
    "\n",
    "Upload your codes here:\n",
    "https://docs.google.com/forms/d/e/1FAIpQLSeurekZFoR7GsSkojekRxwqyQmCjnmBKN74YD7uawqvfbLTRQ/viewform?usp=pp_url\n",
    "\n",
    "\n",
    "Objective\n",
    "\n",
    "To practice the concepts of OOP inheritance  and polymorphism by creating a class hierarchy for animals in a zoo.\n",
    "\n",
    "Requirements\n",
    "\n",
    "1. Implement the Base Class:\n",
    "\n",
    "    Class Name: Animal\n",
    "\n",
    "    Attributes:\n",
    "\n",
    "        name (str): the name of the animal\n",
    "\n",
    "        age (int): the age of the animal in years\n",
    "\n",
    "    Methods:\n",
    "\n",
    "        \\__init\\__ (self, name, age): Initializes the name and age of the animal.\n",
    "\n",
    "        make_sound(self): Prints a generic sound.\n",
    "\n",
    "        describe(self): Prints a description of the animal including its name and age.\n",
    "\n",
    "2. Implement Derived Classes for Specific Animals:\n",
    "\n",
    "    Class Names: Lion, Bird, Reptile\n",
    "\n",
    "    Each of these classes should inherit from Animal.\n",
    "\n",
    "    Additional Methods (specific to each class):\n",
    "\n",
    "\n",
    "        Lion: Implement a method roar() that prints \"Roars loudly.\"\n",
    "\n",
    "        Bird: Implement a method fly() that prints \"Flies high in the sky.\"\n",
    "\n",
    "        Reptile: Implement a method crawl() that prints \"Crawls stealthily.\"\n",
    "\n",
    "3. Override Methods:\n",
    "\n",
    "\n",
    "    Each derived class should override the make_sound() method to represent an appropriate sound for the animal (e.g., Lion might print \"Roar!\", Bird might print \"Chirp!\", and Reptile might print \"Hiss!\").\n",
    "\n",
    "4. Testing:\n",
    "\n",
    "    Create instances\n",
    "\n",
    "    Call describe() on each instance to show its details.\n",
    "\n",
    "    Call make_sound() on each instance to demonstrate polymorphism.\n",
    "\n",
    "    Call specific behaviors (like roar() for Lion, etc.).\n",
    "\n",
    "5. Expected Outputs\n",
    "\n",
    "    When running the test:\n",
    "\n",
    "    The program should display the name, age, and the sound each animal makes.\n",
    "\n",
    "    It should also show specific behaviors like the lion roaring or the bird flying."
   ]
  }
 ],
 "metadata": {
  "kernelspec": {
   "display_name": "Python 3",
   "language": "python",
   "name": "python3"
  },
  "language_info": {
   "codemirror_mode": {
    "name": "ipython",
    "version": 3
   },
   "file_extension": ".py",
   "mimetype": "text/x-python",
   "name": "python",
   "nbconvert_exporter": "python",
   "pygments_lexer": "ipython3",
   "version": "3.13.1"
  }
 },
 "nbformat": 4,
 "nbformat_minor": 2
}
