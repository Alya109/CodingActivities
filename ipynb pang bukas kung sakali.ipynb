{
 "cells": [
  {
   "cell_type": "markdown",
   "id": "68af632a",
   "metadata": {},
   "source": [
    "<h4>Import tkinter<h4/>"
   ]
  },
  {
   "cell_type": "code",
   "execution_count": 2,
   "id": "d8903f02",
   "metadata": {},
   "outputs": [],
   "source": [
    "import tkinter as tk\n",
    "from tkinter import ttk"
   ]
  },
  {
   "cell_type": "markdown",
   "id": "d0e16841",
   "metadata": {},
   "source": [
    "### **Radio Button**\n",
    "\n",
    "This let users select one option from multiple choices."
   ]
  },
  {
   "cell_type": "code",
   "execution_count": null,
   "id": "33f8f597",
   "metadata": {},
   "outputs": [],
   "source": [
    "# Create the window\n",
    "root = tk.Tk()\n",
    "root.title(\"Radio Button Example\")\n",
    "root.geometry(\"300x200\")\n",
    "\n",
    "selected_option = tk.StringVar() #used to store the selected radio button value\n",
    "\n",
    "# Create radio buttons\n",
    "button1 = ttk.Radiobutton(root, text=\"Option 1\", value=\"1\", variable=selected_option)\n",
    "button2 = ttk.Radiobutton(root, text=\"Option 2\", value=\"2\", variable=selected_option)\n",
    "button3 = ttk.Radiobutton(root, text=\"Option 3\", value=\"3\", variable=selected_option)\n",
    "\n",
    "# Pack the radio buttons\n",
    "button1.pack(anchor='center')\n",
    "button2.pack(anchor='center')\n",
    "button3.pack(anchor='center')\n",
    "\n",
    "\n",
    "root.mainloop()\n"
   ]
  },
  {
   "cell_type": "markdown",
   "id": "94abc421",
   "metadata": {},
   "source": [
    "### Examples of Radio Buttons"
   ]
  },
  {
   "cell_type": "code",
   "execution_count": null,
   "id": "77c3a640",
   "metadata": {},
   "outputs": [],
   "source": [
    "root = tk.Tk()\n",
    "root.title(\"Radio Button Example\")\n",
    "root.geometry(\"300x200\")\n",
    "\n",
    "theme_select = tk.StringVar()\n",
    "\n",
    "bt1 = ttk.Radiobutton(root, text=\"Light Mode\", value=\"1\", variable=theme_select)\n",
    "bt2 = ttk.Radiobutton(root, text=\"Dark Mode\", value=\"2\", variable=theme_select)\n",
    "bt3 = ttk.Radiobutton(root, text=\"System\", value=\"3\", variable=theme_select)\n",
    "\n",
    "bt1.pack(anchor='center')\n",
    "bt2.pack(anchor='center')\n",
    "bt3.pack(anchor='center')\n",
    "\n",
    "theme_select = tk.StringVar()\n",
    "\n",
    "bt1 = ttk.Radiobutton(root, text=\"Light Mode\", value=\"1\", variable=theme_select)\n",
    "bt2 = ttk.Radiobutton(root, text=\"Dark Mode\", value=\"2\", variable=theme_select)\n",
    "bt3 = ttk.Radiobutton(root, text=\"System\", value=\"3\", variable=theme_select)\n",
    "\n",
    "bt1.pack(anchor='center')\n",
    "bt2.pack(anchor='center')\n",
    "bt3.pack(anchor='center')\n",
    "\n",
    "theme_select = tk.StringVar()\n",
    "\n",
    "bt1 = ttk.Radiobutton(root, text=\"Light Mode\", value=\"1\", variable=theme_select)\n",
    "bt2 = ttk.Radiobutton(root, text=\"Dark Mode\", value=\"2\", variable=theme_select)\n",
    "bt3 = ttk.Radiobutton(root, text=\"System\", value=\"3\", variable=theme_select)\n",
    "\n",
    "bt1.pack(anchor='center')\n",
    "bt2.pack(anchor='center')\n",
    "bt3.pack(anchor='center')\n",
    "\n",
    "root.mainloop()"
   ]
  },
  {
   "cell_type": "markdown",
   "id": "68e0a508",
   "metadata": {},
   "source": [
    "### **Entry**\n",
    "\n",
    "This let users select one option from multiple choices."
   ]
  },
  {
   "cell_type": "code",
   "execution_count": null,
   "id": "07be04c5",
   "metadata": {},
   "outputs": [],
   "source": [
    "#Entry Widget Example using tkinter\n",
    "\n",
    "# Create the window\n",
    "root = tk.Tk()\n",
    "root.title(\"Entry Widget Example\")\n",
    "\n",
    "# Define the variable to store input text\n",
    "user_input = tk.StringVar()\n",
    "\n",
    "# Create an Entry field\n",
    "text = ttk.Entry(root, textvariable=user_input)\n",
    "text.pack()\n",
    "\n",
    "# Function to be used to display the entered text\n",
    "def show_text():\n",
    "    print(f\"Entered Text: {user_input.get()}\")\n",
    "\n",
    "# Button to fetch and display input\n",
    "button = ttk.Button(root, text=\"Show Input\", command=show_text)\n",
    "button.pack()\n",
    "\n",
    "# Run the application\n",
    "root.mainloop()\n"
   ]
  },
  {
   "cell_type": "code",
   "execution_count": null,
   "id": "ba6ebc95",
   "metadata": {},
   "outputs": [],
   "source": [
    "\n",
    "# Create the window\n",
    "root = tk.Tk()\n",
    "root.title(\"ComboBox Example\")\n",
    "\n",
    "# Define a variable to store the selected value\n",
    "selected_value = tk.StringVar()\n",
    "\n",
    "# Create a ComboBox\n",
    "combo = ttk.Combobox(root, textvariable=selected_value)\n",
    "\n",
    "# Define the list of values\n",
    "combo['values'] = (\"Option1\", \"Option2\", \"Option3\", \"Option4\")\n",
    "\n",
    "# Set the default selection\n",
    "combo.current(0)  # Selects \"Option1\" as default\n",
    "\n",
    "# Pack the ComboBox\n",
    "combo.pack()\n",
    "\n",
    "# Function to display selected value\n",
    "def show_selection():\n",
    "    print(f\"Selected Value: {selected_value.get()}\")\n",
    "\n",
    "# Button to check selected option\n",
    "check_button = ttk.Button(root, text=\"Check Selection\", command=show_selection)\n",
    "check_button.pack()\n",
    "\n",
    "# Run the application\n",
    "root.mainloop()\n"
   ]
  }
 ],
 "metadata": {
  "kernelspec": {
   "display_name": "Python 3",
   "language": "python",
   "name": "python3"
  },
  "language_info": {
   "codemirror_mode": {
    "name": "ipython",
    "version": 3
   },
   "file_extension": ".py",
   "mimetype": "text/x-python",
   "name": "python",
   "nbconvert_exporter": "python",
   "pygments_lexer": "ipython3",
   "version": "3.13.2"
  }
 },
 "nbformat": 4,
 "nbformat_minor": 5
}
