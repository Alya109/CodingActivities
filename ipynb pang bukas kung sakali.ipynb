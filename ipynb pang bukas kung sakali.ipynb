{
 "cells": [
  {
   "cell_type": "code",
   "execution_count": 1,
   "id": "d8903f02",
   "metadata": {},
   "outputs": [],
   "source": [
    "import tkinter as tk\n",
    "from tkinter import ttk"
   ]
  },
  {
   "cell_type": "code",
   "execution_count": null,
   "id": "33f8f597",
   "metadata": {},
   "outputs": [],
   "source": [
    "\n",
    "\n",
    "# Create the window\n",
    "root = tk.Tk()\n",
    "root.title(\"Radio Button Example\")\n",
    "\n",
    "selected_option = tk.StringVar() #used to store the selected radio button value\n",
    "\n",
    "# Create radio buttons\n",
    "button1 = ttk.Radiobutton(root, text=\"Option 1\", value=\"1\", variable=selected_option)\n",
    "button2 = ttk.Radiobutton(root, text=\"Option 2\", value=\"2\", variable=selected_option)\n",
    "button3 = ttk.Radiobutton(root, text=\"Option 3\", value=\"3\", variable=selected_option)\n",
    "\n",
    "# Pack the radio buttons\n",
    "button1.pack()\n",
    "button2.pack()\n",
    "button3.pack()\n",
    "\n",
    "root.mainloop()\n"
   ]
  },
  {
   "cell_type": "code",
   "execution_count": null,
   "id": "07be04c5",
   "metadata": {},
   "outputs": [],
   "source": [
    "#Entry Widget Example using tkinter\n",
    "\n",
    "# Create the window\n",
    "root = tk.Tk()\n",
    "root.title(\"Entry Widget Example\")\n",
    "\n",
    "# Define the variable to store input text\n",
    "user_input = tk.StringVar()\n",
    "\n",
    "# Create an Entry field\n",
    "text = ttk.Entry(root, textvariable=user_input)\n",
    "text.pack()\n",
    "\n",
    "# Function to be used to display the entered text\n",
    "def show_text():\n",
    "    print(f\"Entered Text: {user_input.get()}\")\n",
    "\n",
    "# Button to fetch and display input\n",
    "button = ttk.Button(root, text=\"Show Input\", command=show_text)\n",
    "button.pack()\n",
    "\n",
    "# Run the application\n",
    "root.mainloop()\n"
   ]
  },
  {
   "cell_type": "code",
   "execution_count": null,
   "id": "ba6ebc95",
   "metadata": {},
   "outputs": [],
   "source": [
    "\n",
    "# Create the window\n",
    "root = tk.Tk()\n",
    "root.title(\"ComboBox Example\")\n",
    "\n",
    "# Define a variable to store the selected value\n",
    "selected_value = tk.StringVar()\n",
    "\n",
    "# Create a ComboBox\n",
    "combo = ttk.Combobox(root, textvariable=selected_value)\n",
    "\n",
    "# Define the list of values\n",
    "combo['values'] = (\"Option1\", \"Option2\", \"Option3\", \"Option4\")\n",
    "\n",
    "# Set the default selection\n",
    "combo.current(0)  # Selects \"Option1\" as default\n",
    "\n",
    "# Pack the ComboBox\n",
    "combo.pack()\n",
    "\n",
    "# Function to display selected value\n",
    "def show_selection():\n",
    "    print(f\"Selected Value: {selected_value.get()}\")\n",
    "\n",
    "# Button to check selected option\n",
    "check_button = ttk.Button(root, text=\"Check Selection\", command=show_selection)\n",
    "check_button.pack()\n",
    "\n",
    "# Run the application\n",
    "root.mainloop()\n"
   ]
  }
 ],
 "metadata": {
  "kernelspec": {
   "display_name": "Python 3",
   "language": "python",
   "name": "python3"
  },
  "language_info": {
   "codemirror_mode": {
    "name": "ipython",
    "version": 3
   },
   "file_extension": ".py",
   "mimetype": "text/x-python",
   "name": "python",
   "nbconvert_exporter": "python",
   "pygments_lexer": "ipython3",
   "version": "3.13.2"
  }
 },
 "nbformat": 4,
 "nbformat_minor": 5
}
